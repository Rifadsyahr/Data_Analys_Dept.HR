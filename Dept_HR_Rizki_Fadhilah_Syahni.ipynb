{
  "cells": [
    {
      "cell_type": "markdown",
      "metadata": {
        "id": "view-in-github",
        "colab_type": "text"
      },
      "source": [
        "<a href=\"https://colab.research.google.com/github/Rifadsyahr/Data_Analys_Dept.HR/blob/main/Dept_HR_Rizki_Fadhilah_Syahni.ipynb\" target=\"_parent\"><img src=\"https://colab.research.google.com/assets/colab-badge.svg\" alt=\"Open In Colab\"/></a>"
      ]
    },
    {
      "cell_type": "markdown",
      "metadata": {
        "id": "OG1kDeirnJNt"
      },
      "source": [
        "<h1 align=center><font size = 6>DEPARTEMENT HUMAN RESOURCE </font></h1>\n"
      ]
    },
    {
      "cell_type": "markdown",
      "metadata": {
        "id": "WRA44UaZn4w7"
      },
      "source": [
        "Created by : Rizki Fadhilah Syahni (DBA2121102)\n"
      ]
    },
    {
      "cell_type": "markdown",
      "metadata": {
        "id": "ZavV0w0-rKFt"
      },
      "source": [
        "*Dataset Utama (Primary Dataset)*"
      ]
    },
    {
      "cell_type": "markdown",
      "metadata": {
        "id": "f5lbWKGdoFmm"
      },
      "source": [
        "  | **DATA DICTIONARY TABLE EMPLOYEES**      |                                                                                                 |\n",
        "| ------------- | ----------------------------------------------------------------------------------------------------------- |\n",
        "\n",
        "| Variable      | Description                                                                                                 |\n",
        "| ------------- | ----------------------------------------------------------------------------------------------------------- |\n",
        "| First_Name            | Nama Depan Pegawai                                                                                      |\n",
        "| Last_Name          | Nama Belakang pegawai                                                                                         |\n",
        "| Age         | Usia Pegawai                                                                                  |\n",
        "| Length_service      | Lama Pegawai Bekerja diperusahaan The Looker (Tahun)                                                                                         |\n",
        "| Absent_Hours     | Lama Absen Dalam Satu Tahun (Jam)                                                                                          |\n",
        "| Distribution_Centers_ID   | Distribution Centers ID                                                                                  |\n",
        "\n"
      ]
    },
    {
      "cell_type": "markdown",
      "metadata": {
        "id": "TMWGp_W7rXRD"
      },
      "source": [
        "*Dataset Pendukung (Secondary Dataset)*"
      ]
    },
    {
      "cell_type": "markdown",
      "metadata": {
        "id": "wJO0Ybjwqd_0"
      },
      "source": [
        "  | **DATA DICTIONARY TABLE Distribution_Centers**      |                                                                                                 |\n",
        "| ------------- | ----------------------------------------------------------------------------------------------------------- |\n",
        "\n",
        "| Variable      | Description                                                                                                 |\n",
        "| ------------- | ----------------------------------------------------------------------------------------------------------- |\n",
        "| ID            | ID Distribution Centers                                                                                     |\n",
        "| Name          | Nama Distribution Centers                                                                                       |\n",
        "| Latitude         | Titik Koordinat Latitude                                                                                  |\n",
        "| Longitude      | Titik Koordinat Longitude                                                                                          |"
      ]
    },
    {
      "cell_type": "markdown",
      "metadata": {
        "id": "OHppSN96rptn"
      },
      "source": [
        "## Data Understanding"
      ]
    },
    {
      "cell_type": "markdown",
      "metadata": {
        "id": "hYfMgt7fr9pF"
      },
      "source": [
        "### Import Libraries"
      ]
    },
    {
      "cell_type": "code",
      "execution_count": null,
      "metadata": {
        "id": "yFBV7vpsrHl1"
      },
      "outputs": [],
      "source": [
        "import pandas as pd #Data Manipulating\n",
        "import numpy as np #Support large multi dimentional array\n",
        "import matplotlib.pyplot as plt #Basic plot Python\n",
        "import seaborn as sns  #alternative plot from matplotlib but with some different feature\n",
        "from sklearn.metrics import r2_score\n",
        "from sklearn import linear_model\n",
        "from sklearn.model_selection import train_test_split"
      ]
    },
    {
      "cell_type": "markdown",
      "metadata": {
        "id": "QAuMmsXIsVd4"
      },
      "source": [
        "### Import Data "
      ]
    },
    {
      "cell_type": "code",
      "execution_count": null,
      "metadata": {
        "id": "ZeU6XVDgtnBr"
      },
      "outputs": [],
      "source": [
        "# Import dataset yang telah difilter dan dijoin di PostgreSQL \n",
        "hr = pd.read_csv('/content/drive/MyDrive/Final_Project/hr_final.csv')"
      ]
    },
    {
      "cell_type": "code",
      "execution_count": null,
      "metadata": {
        "colab": {
          "base_uri": "https://localhost:8080/"
        },
        "id": "zFKtMmlIu_Sq",
        "outputId": "a03ead40-f9db-4979-ae69-27aa15f2819c"
      },
      "outputs": [
        {
          "output_type": "execute_result",
          "data": {
            "text/plain": [
              "(8336, 9)"
            ]
          },
          "metadata": {},
          "execution_count": 81
        }
      ],
      "source": [
        "# Jumlah Kolom dan Baris pada tabel HR\n",
        "hr.shape"
      ]
    },
    {
      "cell_type": "code",
      "execution_count": null,
      "metadata": {
        "colab": {
          "base_uri": "https://localhost:8080/"
        },
        "id": "dZr0eB-Xvo7k",
        "outputId": "023ff6dc-e8ef-4ae3-f8a9-d59251ca6140"
      },
      "outputs": [
        {
          "output_type": "execute_result",
          "data": {
            "text/plain": [
              "Index(['first_name', 'gender', 'age', 'length_service', 'absent_hours', 'id',\n",
              "       'name', 'latitude', 'longitude'],\n",
              "      dtype='object')"
            ]
          },
          "metadata": {},
          "execution_count": 82
        }
      ],
      "source": [
        "# Data pada tabel HR\n",
        "hr.columns"
      ]
    },
    {
      "cell_type": "code",
      "execution_count": null,
      "metadata": {
        "colab": {
          "base_uri": "https://localhost:8080/"
        },
        "id": "QcnVYZcHHJT1",
        "outputId": "21dfea21-7fad-4c01-8a79-5c446c34c82b"
      },
      "outputs": [
        {
          "output_type": "execute_result",
          "data": {
            "text/plain": [
              "<bound method DataFrame.info of      first_name gender        age  length_service  absent_hours  id  \\\n",
              "0     Gutierrez      F  32.028816        6.018478     36.577306   5   \n",
              "1      Hardwick      M  40.320902        5.532445     30.165072   9   \n",
              "2       Delgado      M  48.822047        4.389973     83.807798  10   \n",
              "3         Simon      F  44.599357        3.081736     70.020165   2   \n",
              "4      Delvalle      M  35.697876        3.619091      0.000000   4   \n",
              "...         ...    ...        ...             ...           ...  ..   \n",
              "8331   Coniglio      F  46.057544        4.838288     93.665111   9   \n",
              "8332        Cox      M  34.455490        2.427274      0.000000   1   \n",
              "8333    Hawkins      F  58.347160        4.009393    176.356940   9   \n",
              "8334    Proctor      F  43.340616        6.154837     60.321917   7   \n",
              "8335     Salter      M  46.192782        5.174722    112.023389   2   \n",
              "\n",
              "                 name  latitude  longitude  \n",
              "0      New Orleans LA   29.9500   -90.0667  \n",
              "1       Charleston SC   32.7833   -79.9333  \n",
              "2         Savannah GA   32.0167   -81.1167  \n",
              "3          Chicago IL   41.8369   -87.6847  \n",
              "4      Los Angeles CA   34.0500  -118.2500  \n",
              "...               ...       ...        ...  \n",
              "8331    Charleston SC   32.7833   -79.9333  \n",
              "8332       Memphis TN   35.1174   -89.9711  \n",
              "8333    Charleston SC   32.7833   -79.9333  \n",
              "8334  Philadelphia PA   39.9500   -75.1667  \n",
              "8335       Chicago IL   41.8369   -87.6847  \n",
              "\n",
              "[8336 rows x 9 columns]>"
            ]
          },
          "metadata": {},
          "execution_count": 83
        }
      ],
      "source": [
        "# Informasi terkait tabel HR\n",
        "hr.info"
      ]
    },
    {
      "cell_type": "markdown",
      "metadata": {
        "id": "0uBUbmPDH4BD"
      },
      "source": [
        "### Data Missing Value\n",
        " "
      ]
    },
    {
      "cell_type": "code",
      "execution_count": null,
      "metadata": {
        "colab": {
          "base_uri": "https://localhost:8080/"
        },
        "id": "y9Xy0YOGsbld",
        "outputId": "6eee1673-d0ae-4340-b2ff-0520b7aa9314"
      },
      "outputs": [
        {
          "output_type": "execute_result",
          "data": {
            "text/plain": [
              "first_name        False\n",
              "gender            False\n",
              "age               False\n",
              "length_service    False\n",
              "absent_hours      False\n",
              "id                False\n",
              "name              False\n",
              "latitude          False\n",
              "longitude         False\n",
              "dtype: bool"
            ]
          },
          "metadata": {},
          "execution_count": 84
        }
      ],
      "source": [
        "## Cek Data Null HR\n",
        "hr.isna().any()"
      ]
    },
    {
      "cell_type": "markdown",
      "metadata": {
        "id": "fSDUgEyxq2FI"
      },
      "source": [
        "### Transformasi Data\n"
      ]
    },
    {
      "cell_type": "code",
      "execution_count": null,
      "metadata": {
        "id": "LafNwPnlB9dY"
      },
      "outputs": [],
      "source": [
        "# merubah tipe data menjadi tipe data yang sesuai, misalnya age, length_service dan absent hours diubah jadi angka yang dibulatkan pake fungsi round dan diubah jadi integer\n",
        "#hr['age'] =  hr['age'].round().astype(\"int64\")\n",
        "#hr['length_service'] =  hr['length_service'].round().astype(\"int64\")\n",
        "#hr['absent_hours'] =  hr['absent_hours'].round().astype(\"int64\")\n",
        "#hr"
      ]
    },
    {
      "cell_type": "code",
      "execution_count": null,
      "metadata": {
        "colab": {
          "base_uri": "https://localhost:8080/"
        },
        "id": "4aJAuIz2rad9",
        "outputId": "88b4c3d8-e89c-4987-c434-534ca41a94f9"
      },
      "outputs": [
        {
          "output_type": "execute_result",
          "data": {
            "text/plain": [
              "False"
            ]
          },
          "metadata": {},
          "execution_count": 86
        }
      ],
      "source": [
        "# cek data duplikat atau tidak\n",
        "hr.duplicated().any()"
      ]
    },
    {
      "cell_type": "markdown",
      "metadata": {
        "id": "FZtHWm9x5g5F"
      },
      "source": [
        "## Data Exploration\n"
      ]
    },
    {
      "cell_type": "code",
      "execution_count": null,
      "metadata": {
        "colab": {
          "base_uri": "https://localhost:8080/",
          "height": 206
        },
        "id": "OMdWbr1L5lxU",
        "outputId": "0ec07a56-5990-4674-f0f3-db5ab047ddbd"
      },
      "outputs": [
        {
          "output_type": "execute_result",
          "data": {
            "text/plain": [
              "  first_name gender        age  length_service  absent_hours  id  \\\n",
              "0  Gutierrez      F  32.028816        6.018478     36.577306   5   \n",
              "1   Hardwick      M  40.320902        5.532445     30.165072   9   \n",
              "2    Delgado      M  48.822047        4.389973     83.807798  10   \n",
              "3      Simon      F  44.599357        3.081736     70.020165   2   \n",
              "4   Delvalle      M  35.697876        3.619091      0.000000   4   \n",
              "\n",
              "             name  latitude  longitude  \n",
              "0  New Orleans LA   29.9500   -90.0667  \n",
              "1   Charleston SC   32.7833   -79.9333  \n",
              "2     Savannah GA   32.0167   -81.1167  \n",
              "3      Chicago IL   41.8369   -87.6847  \n",
              "4  Los Angeles CA   34.0500  -118.2500  "
            ],
            "text/html": [
              "\n",
              "  <div id=\"df-d12ac486-249a-49e8-ab7f-79eeb117d19e\">\n",
              "    <div class=\"colab-df-container\">\n",
              "      <div>\n",
              "<style scoped>\n",
              "    .dataframe tbody tr th:only-of-type {\n",
              "        vertical-align: middle;\n",
              "    }\n",
              "\n",
              "    .dataframe tbody tr th {\n",
              "        vertical-align: top;\n",
              "    }\n",
              "\n",
              "    .dataframe thead th {\n",
              "        text-align: right;\n",
              "    }\n",
              "</style>\n",
              "<table border=\"1\" class=\"dataframe\">\n",
              "  <thead>\n",
              "    <tr style=\"text-align: right;\">\n",
              "      <th></th>\n",
              "      <th>first_name</th>\n",
              "      <th>gender</th>\n",
              "      <th>age</th>\n",
              "      <th>length_service</th>\n",
              "      <th>absent_hours</th>\n",
              "      <th>id</th>\n",
              "      <th>name</th>\n",
              "      <th>latitude</th>\n",
              "      <th>longitude</th>\n",
              "    </tr>\n",
              "  </thead>\n",
              "  <tbody>\n",
              "    <tr>\n",
              "      <th>0</th>\n",
              "      <td>Gutierrez</td>\n",
              "      <td>F</td>\n",
              "      <td>32.028816</td>\n",
              "      <td>6.018478</td>\n",
              "      <td>36.577306</td>\n",
              "      <td>5</td>\n",
              "      <td>New Orleans LA</td>\n",
              "      <td>29.9500</td>\n",
              "      <td>-90.0667</td>\n",
              "    </tr>\n",
              "    <tr>\n",
              "      <th>1</th>\n",
              "      <td>Hardwick</td>\n",
              "      <td>M</td>\n",
              "      <td>40.320902</td>\n",
              "      <td>5.532445</td>\n",
              "      <td>30.165072</td>\n",
              "      <td>9</td>\n",
              "      <td>Charleston SC</td>\n",
              "      <td>32.7833</td>\n",
              "      <td>-79.9333</td>\n",
              "    </tr>\n",
              "    <tr>\n",
              "      <th>2</th>\n",
              "      <td>Delgado</td>\n",
              "      <td>M</td>\n",
              "      <td>48.822047</td>\n",
              "      <td>4.389973</td>\n",
              "      <td>83.807798</td>\n",
              "      <td>10</td>\n",
              "      <td>Savannah GA</td>\n",
              "      <td>32.0167</td>\n",
              "      <td>-81.1167</td>\n",
              "    </tr>\n",
              "    <tr>\n",
              "      <th>3</th>\n",
              "      <td>Simon</td>\n",
              "      <td>F</td>\n",
              "      <td>44.599357</td>\n",
              "      <td>3.081736</td>\n",
              "      <td>70.020165</td>\n",
              "      <td>2</td>\n",
              "      <td>Chicago IL</td>\n",
              "      <td>41.8369</td>\n",
              "      <td>-87.6847</td>\n",
              "    </tr>\n",
              "    <tr>\n",
              "      <th>4</th>\n",
              "      <td>Delvalle</td>\n",
              "      <td>M</td>\n",
              "      <td>35.697876</td>\n",
              "      <td>3.619091</td>\n",
              "      <td>0.000000</td>\n",
              "      <td>4</td>\n",
              "      <td>Los Angeles CA</td>\n",
              "      <td>34.0500</td>\n",
              "      <td>-118.2500</td>\n",
              "    </tr>\n",
              "  </tbody>\n",
              "</table>\n",
              "</div>\n",
              "      <button class=\"colab-df-convert\" onclick=\"convertToInteractive('df-d12ac486-249a-49e8-ab7f-79eeb117d19e')\"\n",
              "              title=\"Convert this dataframe to an interactive table.\"\n",
              "              style=\"display:none;\">\n",
              "        \n",
              "  <svg xmlns=\"http://www.w3.org/2000/svg\" height=\"24px\"viewBox=\"0 0 24 24\"\n",
              "       width=\"24px\">\n",
              "    <path d=\"M0 0h24v24H0V0z\" fill=\"none\"/>\n",
              "    <path d=\"M18.56 5.44l.94 2.06.94-2.06 2.06-.94-2.06-.94-.94-2.06-.94 2.06-2.06.94zm-11 1L8.5 8.5l.94-2.06 2.06-.94-2.06-.94L8.5 2.5l-.94 2.06-2.06.94zm10 10l.94 2.06.94-2.06 2.06-.94-2.06-.94-.94-2.06-.94 2.06-2.06.94z\"/><path d=\"M17.41 7.96l-1.37-1.37c-.4-.4-.92-.59-1.43-.59-.52 0-1.04.2-1.43.59L10.3 9.45l-7.72 7.72c-.78.78-.78 2.05 0 2.83L4 21.41c.39.39.9.59 1.41.59.51 0 1.02-.2 1.41-.59l7.78-7.78 2.81-2.81c.8-.78.8-2.07 0-2.86zM5.41 20L4 18.59l7.72-7.72 1.47 1.35L5.41 20z\"/>\n",
              "  </svg>\n",
              "      </button>\n",
              "      \n",
              "  <style>\n",
              "    .colab-df-container {\n",
              "      display:flex;\n",
              "      flex-wrap:wrap;\n",
              "      gap: 12px;\n",
              "    }\n",
              "\n",
              "    .colab-df-convert {\n",
              "      background-color: #E8F0FE;\n",
              "      border: none;\n",
              "      border-radius: 50%;\n",
              "      cursor: pointer;\n",
              "      display: none;\n",
              "      fill: #1967D2;\n",
              "      height: 32px;\n",
              "      padding: 0 0 0 0;\n",
              "      width: 32px;\n",
              "    }\n",
              "\n",
              "    .colab-df-convert:hover {\n",
              "      background-color: #E2EBFA;\n",
              "      box-shadow: 0px 1px 2px rgba(60, 64, 67, 0.3), 0px 1px 3px 1px rgba(60, 64, 67, 0.15);\n",
              "      fill: #174EA6;\n",
              "    }\n",
              "\n",
              "    [theme=dark] .colab-df-convert {\n",
              "      background-color: #3B4455;\n",
              "      fill: #D2E3FC;\n",
              "    }\n",
              "\n",
              "    [theme=dark] .colab-df-convert:hover {\n",
              "      background-color: #434B5C;\n",
              "      box-shadow: 0px 1px 3px 1px rgba(0, 0, 0, 0.15);\n",
              "      filter: drop-shadow(0px 1px 2px rgba(0, 0, 0, 0.3));\n",
              "      fill: #FFFFFF;\n",
              "    }\n",
              "  </style>\n",
              "\n",
              "      <script>\n",
              "        const buttonEl =\n",
              "          document.querySelector('#df-d12ac486-249a-49e8-ab7f-79eeb117d19e button.colab-df-convert');\n",
              "        buttonEl.style.display =\n",
              "          google.colab.kernel.accessAllowed ? 'block' : 'none';\n",
              "\n",
              "        async function convertToInteractive(key) {\n",
              "          const element = document.querySelector('#df-d12ac486-249a-49e8-ab7f-79eeb117d19e');\n",
              "          const dataTable =\n",
              "            await google.colab.kernel.invokeFunction('convertToInteractive',\n",
              "                                                     [key], {});\n",
              "          if (!dataTable) return;\n",
              "\n",
              "          const docLinkHtml = 'Like what you see? Visit the ' +\n",
              "            '<a target=\"_blank\" href=https://colab.research.google.com/notebooks/data_table.ipynb>data table notebook</a>'\n",
              "            + ' to learn more about interactive tables.';\n",
              "          element.innerHTML = '';\n",
              "          dataTable['output_type'] = 'display_data';\n",
              "          await google.colab.output.renderOutput(dataTable, element);\n",
              "          const docLink = document.createElement('div');\n",
              "          docLink.innerHTML = docLinkHtml;\n",
              "          element.appendChild(docLink);\n",
              "        }\n",
              "      </script>\n",
              "    </div>\n",
              "  </div>\n",
              "  "
            ]
          },
          "metadata": {},
          "execution_count": 87
        }
      ],
      "source": [
        "#memperlihatkan n baris awal dari sebuah pandas dataframe (default n = 5)\n",
        "hr.head() "
      ]
    },
    {
      "cell_type": "code",
      "execution_count": null,
      "metadata": {
        "colab": {
          "base_uri": "https://localhost:8080/",
          "height": 206
        },
        "id": "mbR6t3bS5xvz",
        "outputId": "ae2b46f3-6390-4563-d14a-d544855d6257"
      },
      "outputs": [
        {
          "output_type": "execute_result",
          "data": {
            "text/plain": [
              "     first_name gender        age  length_service  absent_hours  id  \\\n",
              "8331   Coniglio      F  46.057544        4.838288     93.665111   9   \n",
              "8332        Cox      M  34.455490        2.427274      0.000000   1   \n",
              "8333    Hawkins      F  58.347160        4.009393    176.356940   9   \n",
              "8334    Proctor      F  43.340616        6.154837     60.321917   7   \n",
              "8335     Salter      M  46.192782        5.174722    112.023389   2   \n",
              "\n",
              "                 name  latitude  longitude  \n",
              "8331    Charleston SC   32.7833   -79.9333  \n",
              "8332       Memphis TN   35.1174   -89.9711  \n",
              "8333    Charleston SC   32.7833   -79.9333  \n",
              "8334  Philadelphia PA   39.9500   -75.1667  \n",
              "8335       Chicago IL   41.8369   -87.6847  "
            ],
            "text/html": [
              "\n",
              "  <div id=\"df-56d0f8b6-15ef-446b-aa61-2bd72e025266\">\n",
              "    <div class=\"colab-df-container\">\n",
              "      <div>\n",
              "<style scoped>\n",
              "    .dataframe tbody tr th:only-of-type {\n",
              "        vertical-align: middle;\n",
              "    }\n",
              "\n",
              "    .dataframe tbody tr th {\n",
              "        vertical-align: top;\n",
              "    }\n",
              "\n",
              "    .dataframe thead th {\n",
              "        text-align: right;\n",
              "    }\n",
              "</style>\n",
              "<table border=\"1\" class=\"dataframe\">\n",
              "  <thead>\n",
              "    <tr style=\"text-align: right;\">\n",
              "      <th></th>\n",
              "      <th>first_name</th>\n",
              "      <th>gender</th>\n",
              "      <th>age</th>\n",
              "      <th>length_service</th>\n",
              "      <th>absent_hours</th>\n",
              "      <th>id</th>\n",
              "      <th>name</th>\n",
              "      <th>latitude</th>\n",
              "      <th>longitude</th>\n",
              "    </tr>\n",
              "  </thead>\n",
              "  <tbody>\n",
              "    <tr>\n",
              "      <th>8331</th>\n",
              "      <td>Coniglio</td>\n",
              "      <td>F</td>\n",
              "      <td>46.057544</td>\n",
              "      <td>4.838288</td>\n",
              "      <td>93.665111</td>\n",
              "      <td>9</td>\n",
              "      <td>Charleston SC</td>\n",
              "      <td>32.7833</td>\n",
              "      <td>-79.9333</td>\n",
              "    </tr>\n",
              "    <tr>\n",
              "      <th>8332</th>\n",
              "      <td>Cox</td>\n",
              "      <td>M</td>\n",
              "      <td>34.455490</td>\n",
              "      <td>2.427274</td>\n",
              "      <td>0.000000</td>\n",
              "      <td>1</td>\n",
              "      <td>Memphis TN</td>\n",
              "      <td>35.1174</td>\n",
              "      <td>-89.9711</td>\n",
              "    </tr>\n",
              "    <tr>\n",
              "      <th>8333</th>\n",
              "      <td>Hawkins</td>\n",
              "      <td>F</td>\n",
              "      <td>58.347160</td>\n",
              "      <td>4.009393</td>\n",
              "      <td>176.356940</td>\n",
              "      <td>9</td>\n",
              "      <td>Charleston SC</td>\n",
              "      <td>32.7833</td>\n",
              "      <td>-79.9333</td>\n",
              "    </tr>\n",
              "    <tr>\n",
              "      <th>8334</th>\n",
              "      <td>Proctor</td>\n",
              "      <td>F</td>\n",
              "      <td>43.340616</td>\n",
              "      <td>6.154837</td>\n",
              "      <td>60.321917</td>\n",
              "      <td>7</td>\n",
              "      <td>Philadelphia PA</td>\n",
              "      <td>39.9500</td>\n",
              "      <td>-75.1667</td>\n",
              "    </tr>\n",
              "    <tr>\n",
              "      <th>8335</th>\n",
              "      <td>Salter</td>\n",
              "      <td>M</td>\n",
              "      <td>46.192782</td>\n",
              "      <td>5.174722</td>\n",
              "      <td>112.023389</td>\n",
              "      <td>2</td>\n",
              "      <td>Chicago IL</td>\n",
              "      <td>41.8369</td>\n",
              "      <td>-87.6847</td>\n",
              "    </tr>\n",
              "  </tbody>\n",
              "</table>\n",
              "</div>\n",
              "      <button class=\"colab-df-convert\" onclick=\"convertToInteractive('df-56d0f8b6-15ef-446b-aa61-2bd72e025266')\"\n",
              "              title=\"Convert this dataframe to an interactive table.\"\n",
              "              style=\"display:none;\">\n",
              "        \n",
              "  <svg xmlns=\"http://www.w3.org/2000/svg\" height=\"24px\"viewBox=\"0 0 24 24\"\n",
              "       width=\"24px\">\n",
              "    <path d=\"M0 0h24v24H0V0z\" fill=\"none\"/>\n",
              "    <path d=\"M18.56 5.44l.94 2.06.94-2.06 2.06-.94-2.06-.94-.94-2.06-.94 2.06-2.06.94zm-11 1L8.5 8.5l.94-2.06 2.06-.94-2.06-.94L8.5 2.5l-.94 2.06-2.06.94zm10 10l.94 2.06.94-2.06 2.06-.94-2.06-.94-.94-2.06-.94 2.06-2.06.94z\"/><path d=\"M17.41 7.96l-1.37-1.37c-.4-.4-.92-.59-1.43-.59-.52 0-1.04.2-1.43.59L10.3 9.45l-7.72 7.72c-.78.78-.78 2.05 0 2.83L4 21.41c.39.39.9.59 1.41.59.51 0 1.02-.2 1.41-.59l7.78-7.78 2.81-2.81c.8-.78.8-2.07 0-2.86zM5.41 20L4 18.59l7.72-7.72 1.47 1.35L5.41 20z\"/>\n",
              "  </svg>\n",
              "      </button>\n",
              "      \n",
              "  <style>\n",
              "    .colab-df-container {\n",
              "      display:flex;\n",
              "      flex-wrap:wrap;\n",
              "      gap: 12px;\n",
              "    }\n",
              "\n",
              "    .colab-df-convert {\n",
              "      background-color: #E8F0FE;\n",
              "      border: none;\n",
              "      border-radius: 50%;\n",
              "      cursor: pointer;\n",
              "      display: none;\n",
              "      fill: #1967D2;\n",
              "      height: 32px;\n",
              "      padding: 0 0 0 0;\n",
              "      width: 32px;\n",
              "    }\n",
              "\n",
              "    .colab-df-convert:hover {\n",
              "      background-color: #E2EBFA;\n",
              "      box-shadow: 0px 1px 2px rgba(60, 64, 67, 0.3), 0px 1px 3px 1px rgba(60, 64, 67, 0.15);\n",
              "      fill: #174EA6;\n",
              "    }\n",
              "\n",
              "    [theme=dark] .colab-df-convert {\n",
              "      background-color: #3B4455;\n",
              "      fill: #D2E3FC;\n",
              "    }\n",
              "\n",
              "    [theme=dark] .colab-df-convert:hover {\n",
              "      background-color: #434B5C;\n",
              "      box-shadow: 0px 1px 3px 1px rgba(0, 0, 0, 0.15);\n",
              "      filter: drop-shadow(0px 1px 2px rgba(0, 0, 0, 0.3));\n",
              "      fill: #FFFFFF;\n",
              "    }\n",
              "  </style>\n",
              "\n",
              "      <script>\n",
              "        const buttonEl =\n",
              "          document.querySelector('#df-56d0f8b6-15ef-446b-aa61-2bd72e025266 button.colab-df-convert');\n",
              "        buttonEl.style.display =\n",
              "          google.colab.kernel.accessAllowed ? 'block' : 'none';\n",
              "\n",
              "        async function convertToInteractive(key) {\n",
              "          const element = document.querySelector('#df-56d0f8b6-15ef-446b-aa61-2bd72e025266');\n",
              "          const dataTable =\n",
              "            await google.colab.kernel.invokeFunction('convertToInteractive',\n",
              "                                                     [key], {});\n",
              "          if (!dataTable) return;\n",
              "\n",
              "          const docLinkHtml = 'Like what you see? Visit the ' +\n",
              "            '<a target=\"_blank\" href=https://colab.research.google.com/notebooks/data_table.ipynb>data table notebook</a>'\n",
              "            + ' to learn more about interactive tables.';\n",
              "          element.innerHTML = '';\n",
              "          dataTable['output_type'] = 'display_data';\n",
              "          await google.colab.output.renderOutput(dataTable, element);\n",
              "          const docLink = document.createElement('div');\n",
              "          docLink.innerHTML = docLinkHtml;\n",
              "          element.appendChild(docLink);\n",
              "        }\n",
              "      </script>\n",
              "    </div>\n",
              "  </div>\n",
              "  "
            ]
          },
          "metadata": {},
          "execution_count": 88
        }
      ],
      "source": [
        "#memperlihatkan n baris akhir dari sebuah pandas dataframe (default n = 5)\n",
        "hr.tail() "
      ]
    },
    {
      "cell_type": "code",
      "execution_count": null,
      "metadata": {
        "colab": {
          "base_uri": "https://localhost:8080/",
          "height": 520
        },
        "id": "8yMAIzEE8fR_",
        "outputId": "125ba90b-9fb9-43aa-d049-f7457f8dc311"
      },
      "outputs": [
        {
          "output_type": "execute_result",
          "data": {
            "text/plain": [
              "      first_name gender        age  length_service  absent_hours  id  \\\n",
              "3994       Lynch      F  41.850737        4.908536     44.074989   7   \n",
              "77         Smith      M  35.493900        8.348239     44.974112   5   \n",
              "1981        Wade      F  62.164094        6.679194    198.541746   9   \n",
              "1835    Gonzales      M  42.793973        4.012557     44.545204   8   \n",
              "7901        Pugh      M  45.774032        4.281190     13.915813   7   \n",
              "4966      Pierce      M  37.592669        3.800093     29.073974  10   \n",
              "3798      Wetter      M  41.683684        6.413100     33.370400   2   \n",
              "1335        Snow      F  40.768563        2.674609     33.137001   5   \n",
              "1164  Figueiredo      M  45.027112        5.955614     65.672312   1   \n",
              "6051       Tatum      M  40.974454        4.672747    102.176436   2   \n",
              "3925   Scroggins      F  42.507255        5.582640     66.788004   4   \n",
              "3725    Ellerman      F  30.518302        7.722977     10.106963   7   \n",
              "2094  Eisenhower      F  40.979032        3.033235    104.156561   3   \n",
              "5723      Ritter      F  38.897090        4.747328     49.614346   6   \n",
              "7419    Lundberg      F  47.735095        4.934396    101.826252   1   \n",
              "\n",
              "                                             name  latitude  longitude  \n",
              "3994                              Philadelphia PA   39.9500   -75.1667  \n",
              "77                                 New Orleans LA   29.9500   -90.0667  \n",
              "1981                                Charleston SC   32.7833   -79.9333  \n",
              "1835                                    Mobile AL   30.6944   -88.0431  \n",
              "7901                              Philadelphia PA   39.9500   -75.1667  \n",
              "4966                                  Savannah GA   32.0167   -81.1167  \n",
              "3798                                   Chicago IL   41.8369   -87.6847  \n",
              "1335                               New Orleans LA   29.9500   -90.0667  \n",
              "1164                                   Memphis TN   35.1174   -89.9711  \n",
              "6051                                   Chicago IL   41.8369   -87.6847  \n",
              "3925                               Los Angeles CA   34.0500  -118.2500  \n",
              "3725                              Philadelphia PA   39.9500   -75.1667  \n",
              "2094                                   Houston TX   29.7604   -95.3698  \n",
              "5723  Port Authority of New York/New Jersey NY/NJ   40.6340   -73.7834  \n",
              "7419                                   Memphis TN   35.1174   -89.9711  "
            ],
            "text/html": [
              "\n",
              "  <div id=\"df-72624173-d453-463c-a4ec-8b0dde986a7c\">\n",
              "    <div class=\"colab-df-container\">\n",
              "      <div>\n",
              "<style scoped>\n",
              "    .dataframe tbody tr th:only-of-type {\n",
              "        vertical-align: middle;\n",
              "    }\n",
              "\n",
              "    .dataframe tbody tr th {\n",
              "        vertical-align: top;\n",
              "    }\n",
              "\n",
              "    .dataframe thead th {\n",
              "        text-align: right;\n",
              "    }\n",
              "</style>\n",
              "<table border=\"1\" class=\"dataframe\">\n",
              "  <thead>\n",
              "    <tr style=\"text-align: right;\">\n",
              "      <th></th>\n",
              "      <th>first_name</th>\n",
              "      <th>gender</th>\n",
              "      <th>age</th>\n",
              "      <th>length_service</th>\n",
              "      <th>absent_hours</th>\n",
              "      <th>id</th>\n",
              "      <th>name</th>\n",
              "      <th>latitude</th>\n",
              "      <th>longitude</th>\n",
              "    </tr>\n",
              "  </thead>\n",
              "  <tbody>\n",
              "    <tr>\n",
              "      <th>3994</th>\n",
              "      <td>Lynch</td>\n",
              "      <td>F</td>\n",
              "      <td>41.850737</td>\n",
              "      <td>4.908536</td>\n",
              "      <td>44.074989</td>\n",
              "      <td>7</td>\n",
              "      <td>Philadelphia PA</td>\n",
              "      <td>39.9500</td>\n",
              "      <td>-75.1667</td>\n",
              "    </tr>\n",
              "    <tr>\n",
              "      <th>77</th>\n",
              "      <td>Smith</td>\n",
              "      <td>M</td>\n",
              "      <td>35.493900</td>\n",
              "      <td>8.348239</td>\n",
              "      <td>44.974112</td>\n",
              "      <td>5</td>\n",
              "      <td>New Orleans LA</td>\n",
              "      <td>29.9500</td>\n",
              "      <td>-90.0667</td>\n",
              "    </tr>\n",
              "    <tr>\n",
              "      <th>1981</th>\n",
              "      <td>Wade</td>\n",
              "      <td>F</td>\n",
              "      <td>62.164094</td>\n",
              "      <td>6.679194</td>\n",
              "      <td>198.541746</td>\n",
              "      <td>9</td>\n",
              "      <td>Charleston SC</td>\n",
              "      <td>32.7833</td>\n",
              "      <td>-79.9333</td>\n",
              "    </tr>\n",
              "    <tr>\n",
              "      <th>1835</th>\n",
              "      <td>Gonzales</td>\n",
              "      <td>M</td>\n",
              "      <td>42.793973</td>\n",
              "      <td>4.012557</td>\n",
              "      <td>44.545204</td>\n",
              "      <td>8</td>\n",
              "      <td>Mobile AL</td>\n",
              "      <td>30.6944</td>\n",
              "      <td>-88.0431</td>\n",
              "    </tr>\n",
              "    <tr>\n",
              "      <th>7901</th>\n",
              "      <td>Pugh</td>\n",
              "      <td>M</td>\n",
              "      <td>45.774032</td>\n",
              "      <td>4.281190</td>\n",
              "      <td>13.915813</td>\n",
              "      <td>7</td>\n",
              "      <td>Philadelphia PA</td>\n",
              "      <td>39.9500</td>\n",
              "      <td>-75.1667</td>\n",
              "    </tr>\n",
              "    <tr>\n",
              "      <th>4966</th>\n",
              "      <td>Pierce</td>\n",
              "      <td>M</td>\n",
              "      <td>37.592669</td>\n",
              "      <td>3.800093</td>\n",
              "      <td>29.073974</td>\n",
              "      <td>10</td>\n",
              "      <td>Savannah GA</td>\n",
              "      <td>32.0167</td>\n",
              "      <td>-81.1167</td>\n",
              "    </tr>\n",
              "    <tr>\n",
              "      <th>3798</th>\n",
              "      <td>Wetter</td>\n",
              "      <td>M</td>\n",
              "      <td>41.683684</td>\n",
              "      <td>6.413100</td>\n",
              "      <td>33.370400</td>\n",
              "      <td>2</td>\n",
              "      <td>Chicago IL</td>\n",
              "      <td>41.8369</td>\n",
              "      <td>-87.6847</td>\n",
              "    </tr>\n",
              "    <tr>\n",
              "      <th>1335</th>\n",
              "      <td>Snow</td>\n",
              "      <td>F</td>\n",
              "      <td>40.768563</td>\n",
              "      <td>2.674609</td>\n",
              "      <td>33.137001</td>\n",
              "      <td>5</td>\n",
              "      <td>New Orleans LA</td>\n",
              "      <td>29.9500</td>\n",
              "      <td>-90.0667</td>\n",
              "    </tr>\n",
              "    <tr>\n",
              "      <th>1164</th>\n",
              "      <td>Figueiredo</td>\n",
              "      <td>M</td>\n",
              "      <td>45.027112</td>\n",
              "      <td>5.955614</td>\n",
              "      <td>65.672312</td>\n",
              "      <td>1</td>\n",
              "      <td>Memphis TN</td>\n",
              "      <td>35.1174</td>\n",
              "      <td>-89.9711</td>\n",
              "    </tr>\n",
              "    <tr>\n",
              "      <th>6051</th>\n",
              "      <td>Tatum</td>\n",
              "      <td>M</td>\n",
              "      <td>40.974454</td>\n",
              "      <td>4.672747</td>\n",
              "      <td>102.176436</td>\n",
              "      <td>2</td>\n",
              "      <td>Chicago IL</td>\n",
              "      <td>41.8369</td>\n",
              "      <td>-87.6847</td>\n",
              "    </tr>\n",
              "    <tr>\n",
              "      <th>3925</th>\n",
              "      <td>Scroggins</td>\n",
              "      <td>F</td>\n",
              "      <td>42.507255</td>\n",
              "      <td>5.582640</td>\n",
              "      <td>66.788004</td>\n",
              "      <td>4</td>\n",
              "      <td>Los Angeles CA</td>\n",
              "      <td>34.0500</td>\n",
              "      <td>-118.2500</td>\n",
              "    </tr>\n",
              "    <tr>\n",
              "      <th>3725</th>\n",
              "      <td>Ellerman</td>\n",
              "      <td>F</td>\n",
              "      <td>30.518302</td>\n",
              "      <td>7.722977</td>\n",
              "      <td>10.106963</td>\n",
              "      <td>7</td>\n",
              "      <td>Philadelphia PA</td>\n",
              "      <td>39.9500</td>\n",
              "      <td>-75.1667</td>\n",
              "    </tr>\n",
              "    <tr>\n",
              "      <th>2094</th>\n",
              "      <td>Eisenhower</td>\n",
              "      <td>F</td>\n",
              "      <td>40.979032</td>\n",
              "      <td>3.033235</td>\n",
              "      <td>104.156561</td>\n",
              "      <td>3</td>\n",
              "      <td>Houston TX</td>\n",
              "      <td>29.7604</td>\n",
              "      <td>-95.3698</td>\n",
              "    </tr>\n",
              "    <tr>\n",
              "      <th>5723</th>\n",
              "      <td>Ritter</td>\n",
              "      <td>F</td>\n",
              "      <td>38.897090</td>\n",
              "      <td>4.747328</td>\n",
              "      <td>49.614346</td>\n",
              "      <td>6</td>\n",
              "      <td>Port Authority of New York/New Jersey NY/NJ</td>\n",
              "      <td>40.6340</td>\n",
              "      <td>-73.7834</td>\n",
              "    </tr>\n",
              "    <tr>\n",
              "      <th>7419</th>\n",
              "      <td>Lundberg</td>\n",
              "      <td>F</td>\n",
              "      <td>47.735095</td>\n",
              "      <td>4.934396</td>\n",
              "      <td>101.826252</td>\n",
              "      <td>1</td>\n",
              "      <td>Memphis TN</td>\n",
              "      <td>35.1174</td>\n",
              "      <td>-89.9711</td>\n",
              "    </tr>\n",
              "  </tbody>\n",
              "</table>\n",
              "</div>\n",
              "      <button class=\"colab-df-convert\" onclick=\"convertToInteractive('df-72624173-d453-463c-a4ec-8b0dde986a7c')\"\n",
              "              title=\"Convert this dataframe to an interactive table.\"\n",
              "              style=\"display:none;\">\n",
              "        \n",
              "  <svg xmlns=\"http://www.w3.org/2000/svg\" height=\"24px\"viewBox=\"0 0 24 24\"\n",
              "       width=\"24px\">\n",
              "    <path d=\"M0 0h24v24H0V0z\" fill=\"none\"/>\n",
              "    <path d=\"M18.56 5.44l.94 2.06.94-2.06 2.06-.94-2.06-.94-.94-2.06-.94 2.06-2.06.94zm-11 1L8.5 8.5l.94-2.06 2.06-.94-2.06-.94L8.5 2.5l-.94 2.06-2.06.94zm10 10l.94 2.06.94-2.06 2.06-.94-2.06-.94-.94-2.06-.94 2.06-2.06.94z\"/><path d=\"M17.41 7.96l-1.37-1.37c-.4-.4-.92-.59-1.43-.59-.52 0-1.04.2-1.43.59L10.3 9.45l-7.72 7.72c-.78.78-.78 2.05 0 2.83L4 21.41c.39.39.9.59 1.41.59.51 0 1.02-.2 1.41-.59l7.78-7.78 2.81-2.81c.8-.78.8-2.07 0-2.86zM5.41 20L4 18.59l7.72-7.72 1.47 1.35L5.41 20z\"/>\n",
              "  </svg>\n",
              "      </button>\n",
              "      \n",
              "  <style>\n",
              "    .colab-df-container {\n",
              "      display:flex;\n",
              "      flex-wrap:wrap;\n",
              "      gap: 12px;\n",
              "    }\n",
              "\n",
              "    .colab-df-convert {\n",
              "      background-color: #E8F0FE;\n",
              "      border: none;\n",
              "      border-radius: 50%;\n",
              "      cursor: pointer;\n",
              "      display: none;\n",
              "      fill: #1967D2;\n",
              "      height: 32px;\n",
              "      padding: 0 0 0 0;\n",
              "      width: 32px;\n",
              "    }\n",
              "\n",
              "    .colab-df-convert:hover {\n",
              "      background-color: #E2EBFA;\n",
              "      box-shadow: 0px 1px 2px rgba(60, 64, 67, 0.3), 0px 1px 3px 1px rgba(60, 64, 67, 0.15);\n",
              "      fill: #174EA6;\n",
              "    }\n",
              "\n",
              "    [theme=dark] .colab-df-convert {\n",
              "      background-color: #3B4455;\n",
              "      fill: #D2E3FC;\n",
              "    }\n",
              "\n",
              "    [theme=dark] .colab-df-convert:hover {\n",
              "      background-color: #434B5C;\n",
              "      box-shadow: 0px 1px 3px 1px rgba(0, 0, 0, 0.15);\n",
              "      filter: drop-shadow(0px 1px 2px rgba(0, 0, 0, 0.3));\n",
              "      fill: #FFFFFF;\n",
              "    }\n",
              "  </style>\n",
              "\n",
              "      <script>\n",
              "        const buttonEl =\n",
              "          document.querySelector('#df-72624173-d453-463c-a4ec-8b0dde986a7c button.colab-df-convert');\n",
              "        buttonEl.style.display =\n",
              "          google.colab.kernel.accessAllowed ? 'block' : 'none';\n",
              "\n",
              "        async function convertToInteractive(key) {\n",
              "          const element = document.querySelector('#df-72624173-d453-463c-a4ec-8b0dde986a7c');\n",
              "          const dataTable =\n",
              "            await google.colab.kernel.invokeFunction('convertToInteractive',\n",
              "                                                     [key], {});\n",
              "          if (!dataTable) return;\n",
              "\n",
              "          const docLinkHtml = 'Like what you see? Visit the ' +\n",
              "            '<a target=\"_blank\" href=https://colab.research.google.com/notebooks/data_table.ipynb>data table notebook</a>'\n",
              "            + ' to learn more about interactive tables.';\n",
              "          element.innerHTML = '';\n",
              "          dataTable['output_type'] = 'display_data';\n",
              "          await google.colab.output.renderOutput(dataTable, element);\n",
              "          const docLink = document.createElement('div');\n",
              "          docLink.innerHTML = docLinkHtml;\n",
              "          element.appendChild(docLink);\n",
              "        }\n",
              "      </script>\n",
              "    </div>\n",
              "  </div>\n",
              "  "
            ]
          },
          "metadata": {},
          "execution_count": 89
        }
      ],
      "source": [
        "# Sampel Data 15 \n",
        "hr.sample(15)"
      ]
    },
    {
      "cell_type": "code",
      "execution_count": null,
      "metadata": {
        "colab": {
          "base_uri": "https://localhost:8080/"
        },
        "id": "kIQmoFxq7xQo",
        "outputId": "f3848db8-d27a-4477-b45a-4a9db6e9d8f4"
      },
      "outputs": [
        {
          "output_type": "execute_result",
          "data": {
            "text/plain": [
              "['age', 'length_service', 'absent_hours', 'id', 'latitude', 'longitude']"
            ]
          },
          "metadata": {},
          "execution_count": 90
        }
      ],
      "source": [
        "# Hanya Melihat Tabel Data Numerical \n",
        "hr.select_dtypes(\"number\").columns.to_list()"
      ]
    },
    {
      "cell_type": "code",
      "execution_count": null,
      "metadata": {
        "colab": {
          "base_uri": "https://localhost:8080/"
        },
        "id": "RxMCdb5Q715h",
        "outputId": "b719fb77-7bea-4ddf-9e6f-758ef3358fe4"
      },
      "outputs": [
        {
          "output_type": "execute_result",
          "data": {
            "text/plain": [
              "['first_name', 'gender', 'name']"
            ]
          },
          "metadata": {},
          "execution_count": 91
        }
      ],
      "source": [
        "# Hanya Melihat Tabel Data Category\n",
        "hr.select_dtypes(\"object\").columns.to_list()"
      ]
    },
    {
      "cell_type": "code",
      "execution_count": null,
      "metadata": {
        "colab": {
          "base_uri": "https://localhost:8080/",
          "height": 511
        },
        "id": "S7xG5LZJ79O_",
        "outputId": "436dc6d0-6ff1-48cf-9778-56b3d5b22d13"
      },
      "outputs": [
        {
          "output_type": "stream",
          "name": "stderr",
          "text": [
            "/usr/local/lib/python3.7/dist-packages/pandas/core/frame.py:5047: SettingWithCopyWarning: \n",
            "A value is trying to be set on a copy of a slice from a DataFrame\n",
            "\n",
            "See the caveats in the documentation: https://pandas.pydata.org/pandas-docs/stable/user_guide/indexing.html#returning-a-view-versus-a-copy\n",
            "  errors=errors,\n"
          ]
        },
        {
          "output_type": "execute_result",
          "data": {
            "text/plain": [
              "       employee        age  length_service  absent_hours  placement_id  \\\n",
              "0     Gutierrez  32.028816        6.018478     36.577306             5   \n",
              "1      Hardwick  40.320902        5.532445     30.165072             9   \n",
              "2       Delgado  48.822047        4.389973     83.807798            10   \n",
              "3         Simon  44.599357        3.081736     70.020165             2   \n",
              "4      Delvalle  35.697876        3.619091      0.000000             4   \n",
              "...         ...        ...             ...           ...           ...   \n",
              "8331   Coniglio  46.057544        4.838288     93.665111             9   \n",
              "8332        Cox  34.455490        2.427274      0.000000             1   \n",
              "8333    Hawkins  58.347160        4.009393    176.356940             9   \n",
              "8334    Proctor  43.340616        6.154837     60.321917             7   \n",
              "8335     Salter  46.192782        5.174722    112.023389             2   \n",
              "\n",
              "            placement  \n",
              "0      New Orleans LA  \n",
              "1       Charleston SC  \n",
              "2         Savannah GA  \n",
              "3          Chicago IL  \n",
              "4      Los Angeles CA  \n",
              "...               ...  \n",
              "8331    Charleston SC  \n",
              "8332       Memphis TN  \n",
              "8333    Charleston SC  \n",
              "8334  Philadelphia PA  \n",
              "8335       Chicago IL  \n",
              "\n",
              "[8336 rows x 6 columns]"
            ],
            "text/html": [
              "\n",
              "  <div id=\"df-6d2f6eca-f44d-460e-bdfb-8da441525c9e\">\n",
              "    <div class=\"colab-df-container\">\n",
              "      <div>\n",
              "<style scoped>\n",
              "    .dataframe tbody tr th:only-of-type {\n",
              "        vertical-align: middle;\n",
              "    }\n",
              "\n",
              "    .dataframe tbody tr th {\n",
              "        vertical-align: top;\n",
              "    }\n",
              "\n",
              "    .dataframe thead th {\n",
              "        text-align: right;\n",
              "    }\n",
              "</style>\n",
              "<table border=\"1\" class=\"dataframe\">\n",
              "  <thead>\n",
              "    <tr style=\"text-align: right;\">\n",
              "      <th></th>\n",
              "      <th>employee</th>\n",
              "      <th>age</th>\n",
              "      <th>length_service</th>\n",
              "      <th>absent_hours</th>\n",
              "      <th>placement_id</th>\n",
              "      <th>placement</th>\n",
              "    </tr>\n",
              "  </thead>\n",
              "  <tbody>\n",
              "    <tr>\n",
              "      <th>0</th>\n",
              "      <td>Gutierrez</td>\n",
              "      <td>32.028816</td>\n",
              "      <td>6.018478</td>\n",
              "      <td>36.577306</td>\n",
              "      <td>5</td>\n",
              "      <td>New Orleans LA</td>\n",
              "    </tr>\n",
              "    <tr>\n",
              "      <th>1</th>\n",
              "      <td>Hardwick</td>\n",
              "      <td>40.320902</td>\n",
              "      <td>5.532445</td>\n",
              "      <td>30.165072</td>\n",
              "      <td>9</td>\n",
              "      <td>Charleston SC</td>\n",
              "    </tr>\n",
              "    <tr>\n",
              "      <th>2</th>\n",
              "      <td>Delgado</td>\n",
              "      <td>48.822047</td>\n",
              "      <td>4.389973</td>\n",
              "      <td>83.807798</td>\n",
              "      <td>10</td>\n",
              "      <td>Savannah GA</td>\n",
              "    </tr>\n",
              "    <tr>\n",
              "      <th>3</th>\n",
              "      <td>Simon</td>\n",
              "      <td>44.599357</td>\n",
              "      <td>3.081736</td>\n",
              "      <td>70.020165</td>\n",
              "      <td>2</td>\n",
              "      <td>Chicago IL</td>\n",
              "    </tr>\n",
              "    <tr>\n",
              "      <th>4</th>\n",
              "      <td>Delvalle</td>\n",
              "      <td>35.697876</td>\n",
              "      <td>3.619091</td>\n",
              "      <td>0.000000</td>\n",
              "      <td>4</td>\n",
              "      <td>Los Angeles CA</td>\n",
              "    </tr>\n",
              "    <tr>\n",
              "      <th>...</th>\n",
              "      <td>...</td>\n",
              "      <td>...</td>\n",
              "      <td>...</td>\n",
              "      <td>...</td>\n",
              "      <td>...</td>\n",
              "      <td>...</td>\n",
              "    </tr>\n",
              "    <tr>\n",
              "      <th>8331</th>\n",
              "      <td>Coniglio</td>\n",
              "      <td>46.057544</td>\n",
              "      <td>4.838288</td>\n",
              "      <td>93.665111</td>\n",
              "      <td>9</td>\n",
              "      <td>Charleston SC</td>\n",
              "    </tr>\n",
              "    <tr>\n",
              "      <th>8332</th>\n",
              "      <td>Cox</td>\n",
              "      <td>34.455490</td>\n",
              "      <td>2.427274</td>\n",
              "      <td>0.000000</td>\n",
              "      <td>1</td>\n",
              "      <td>Memphis TN</td>\n",
              "    </tr>\n",
              "    <tr>\n",
              "      <th>8333</th>\n",
              "      <td>Hawkins</td>\n",
              "      <td>58.347160</td>\n",
              "      <td>4.009393</td>\n",
              "      <td>176.356940</td>\n",
              "      <td>9</td>\n",
              "      <td>Charleston SC</td>\n",
              "    </tr>\n",
              "    <tr>\n",
              "      <th>8334</th>\n",
              "      <td>Proctor</td>\n",
              "      <td>43.340616</td>\n",
              "      <td>6.154837</td>\n",
              "      <td>60.321917</td>\n",
              "      <td>7</td>\n",
              "      <td>Philadelphia PA</td>\n",
              "    </tr>\n",
              "    <tr>\n",
              "      <th>8335</th>\n",
              "      <td>Salter</td>\n",
              "      <td>46.192782</td>\n",
              "      <td>5.174722</td>\n",
              "      <td>112.023389</td>\n",
              "      <td>2</td>\n",
              "      <td>Chicago IL</td>\n",
              "    </tr>\n",
              "  </tbody>\n",
              "</table>\n",
              "<p>8336 rows × 6 columns</p>\n",
              "</div>\n",
              "      <button class=\"colab-df-convert\" onclick=\"convertToInteractive('df-6d2f6eca-f44d-460e-bdfb-8da441525c9e')\"\n",
              "              title=\"Convert this dataframe to an interactive table.\"\n",
              "              style=\"display:none;\">\n",
              "        \n",
              "  <svg xmlns=\"http://www.w3.org/2000/svg\" height=\"24px\"viewBox=\"0 0 24 24\"\n",
              "       width=\"24px\">\n",
              "    <path d=\"M0 0h24v24H0V0z\" fill=\"none\"/>\n",
              "    <path d=\"M18.56 5.44l.94 2.06.94-2.06 2.06-.94-2.06-.94-.94-2.06-.94 2.06-2.06.94zm-11 1L8.5 8.5l.94-2.06 2.06-.94-2.06-.94L8.5 2.5l-.94 2.06-2.06.94zm10 10l.94 2.06.94-2.06 2.06-.94-2.06-.94-.94-2.06-.94 2.06-2.06.94z\"/><path d=\"M17.41 7.96l-1.37-1.37c-.4-.4-.92-.59-1.43-.59-.52 0-1.04.2-1.43.59L10.3 9.45l-7.72 7.72c-.78.78-.78 2.05 0 2.83L4 21.41c.39.39.9.59 1.41.59.51 0 1.02-.2 1.41-.59l7.78-7.78 2.81-2.81c.8-.78.8-2.07 0-2.86zM5.41 20L4 18.59l7.72-7.72 1.47 1.35L5.41 20z\"/>\n",
              "  </svg>\n",
              "      </button>\n",
              "      \n",
              "  <style>\n",
              "    .colab-df-container {\n",
              "      display:flex;\n",
              "      flex-wrap:wrap;\n",
              "      gap: 12px;\n",
              "    }\n",
              "\n",
              "    .colab-df-convert {\n",
              "      background-color: #E8F0FE;\n",
              "      border: none;\n",
              "      border-radius: 50%;\n",
              "      cursor: pointer;\n",
              "      display: none;\n",
              "      fill: #1967D2;\n",
              "      height: 32px;\n",
              "      padding: 0 0 0 0;\n",
              "      width: 32px;\n",
              "    }\n",
              "\n",
              "    .colab-df-convert:hover {\n",
              "      background-color: #E2EBFA;\n",
              "      box-shadow: 0px 1px 2px rgba(60, 64, 67, 0.3), 0px 1px 3px 1px rgba(60, 64, 67, 0.15);\n",
              "      fill: #174EA6;\n",
              "    }\n",
              "\n",
              "    [theme=dark] .colab-df-convert {\n",
              "      background-color: #3B4455;\n",
              "      fill: #D2E3FC;\n",
              "    }\n",
              "\n",
              "    [theme=dark] .colab-df-convert:hover {\n",
              "      background-color: #434B5C;\n",
              "      box-shadow: 0px 1px 3px 1px rgba(0, 0, 0, 0.15);\n",
              "      filter: drop-shadow(0px 1px 2px rgba(0, 0, 0, 0.3));\n",
              "      fill: #FFFFFF;\n",
              "    }\n",
              "  </style>\n",
              "\n",
              "      <script>\n",
              "        const buttonEl =\n",
              "          document.querySelector('#df-6d2f6eca-f44d-460e-bdfb-8da441525c9e button.colab-df-convert');\n",
              "        buttonEl.style.display =\n",
              "          google.colab.kernel.accessAllowed ? 'block' : 'none';\n",
              "\n",
              "        async function convertToInteractive(key) {\n",
              "          const element = document.querySelector('#df-6d2f6eca-f44d-460e-bdfb-8da441525c9e');\n",
              "          const dataTable =\n",
              "            await google.colab.kernel.invokeFunction('convertToInteractive',\n",
              "                                                     [key], {});\n",
              "          if (!dataTable) return;\n",
              "\n",
              "          const docLinkHtml = 'Like what you see? Visit the ' +\n",
              "            '<a target=\"_blank\" href=https://colab.research.google.com/notebooks/data_table.ipynb>data table notebook</a>'\n",
              "            + ' to learn more about interactive tables.';\n",
              "          element.innerHTML = '';\n",
              "          dataTable['output_type'] = 'display_data';\n",
              "          await google.colab.output.renderOutput(dataTable, element);\n",
              "          const docLink = document.createElement('div');\n",
              "          docLink.innerHTML = docLinkHtml;\n",
              "          element.appendChild(docLink);\n",
              "        }\n",
              "      </script>\n",
              "    </div>\n",
              "  </div>\n",
              "  "
            ]
          },
          "metadata": {},
          "execution_count": 92
        }
      ],
      "source": [
        "#menentukan variabel yang akan digunakan dengan difilter kembali datasetnya agar lebih ringkas.\n",
        "#merename kolom 'name' menjadi 'placement' agar lebih cocok.\n",
        "\n",
        "hr_filtered = hr[['first_name','age', 'length_service', 'absent_hours', 'id', 'name']]\n",
        "hr_filtered.rename(columns={'first_name':'employee'}, inplace=True)\n",
        "hr_filtered.rename(columns={'name':'placement'}, inplace=True)\n",
        "hr_filtered.rename(columns={'id':'placement_id'}, inplace=True)\n",
        "hr_filtered"
      ]
    },
    {
      "cell_type": "code",
      "execution_count": null,
      "metadata": {
        "id": "ExAP0Zr68Aq8"
      },
      "outputs": [],
      "source": [
        "# Hapus kolom \n",
        "del hr_filtered ['placement_id']"
      ]
    },
    {
      "cell_type": "code",
      "execution_count": null,
      "metadata": {
        "colab": {
          "base_uri": "https://localhost:8080/"
        },
        "id": "CdCfPAak_gNQ",
        "outputId": "b67437b3-11a5-4327-b29f-79d67815a684"
      },
      "outputs": [
        {
          "output_type": "execute_result",
          "data": {
            "text/plain": [
              "employee          0\n",
              "age               0\n",
              "length_service    0\n",
              "absent_hours      0\n",
              "placement         0\n",
              "dtype: int64"
            ]
          },
          "metadata": {},
          "execution_count": 94
        }
      ],
      "source": [
        "# Mengecek Data Missing Values\n",
        "hr_filtered.isna().sum()"
      ]
    },
    {
      "cell_type": "code",
      "execution_count": null,
      "metadata": {
        "colab": {
          "base_uri": "https://localhost:8080/",
          "height": 301
        },
        "id": "3I5kAI3u8Fqh",
        "outputId": "a3972d90-d661-43be-fe4a-8ecfc9f40847"
      },
      "outputs": [
        {
          "output_type": "execute_result",
          "data": {
            "text/plain": [
              "               age  length_service  absent_hours\n",
              "count  8336.000000     8336.000000   8336.000000\n",
              "mean     42.007086        4.782910     61.283978\n",
              "std       9.939798        2.462990     49.038365\n",
              "min       3.504743        0.012098      0.000000\n",
              "25%      35.298748        3.575892     19.127590\n",
              "50%      42.114924        4.600248     56.005808\n",
              "75%      48.666943        5.623922     94.284692\n",
              "max      77.938003       43.735239    272.530123"
            ],
            "text/html": [
              "\n",
              "  <div id=\"df-a0a5ada4-b871-4e15-9a46-7ab947e29ea8\">\n",
              "    <div class=\"colab-df-container\">\n",
              "      <div>\n",
              "<style scoped>\n",
              "    .dataframe tbody tr th:only-of-type {\n",
              "        vertical-align: middle;\n",
              "    }\n",
              "\n",
              "    .dataframe tbody tr th {\n",
              "        vertical-align: top;\n",
              "    }\n",
              "\n",
              "    .dataframe thead th {\n",
              "        text-align: right;\n",
              "    }\n",
              "</style>\n",
              "<table border=\"1\" class=\"dataframe\">\n",
              "  <thead>\n",
              "    <tr style=\"text-align: right;\">\n",
              "      <th></th>\n",
              "      <th>age</th>\n",
              "      <th>length_service</th>\n",
              "      <th>absent_hours</th>\n",
              "    </tr>\n",
              "  </thead>\n",
              "  <tbody>\n",
              "    <tr>\n",
              "      <th>count</th>\n",
              "      <td>8336.000000</td>\n",
              "      <td>8336.000000</td>\n",
              "      <td>8336.000000</td>\n",
              "    </tr>\n",
              "    <tr>\n",
              "      <th>mean</th>\n",
              "      <td>42.007086</td>\n",
              "      <td>4.782910</td>\n",
              "      <td>61.283978</td>\n",
              "    </tr>\n",
              "    <tr>\n",
              "      <th>std</th>\n",
              "      <td>9.939798</td>\n",
              "      <td>2.462990</td>\n",
              "      <td>49.038365</td>\n",
              "    </tr>\n",
              "    <tr>\n",
              "      <th>min</th>\n",
              "      <td>3.504743</td>\n",
              "      <td>0.012098</td>\n",
              "      <td>0.000000</td>\n",
              "    </tr>\n",
              "    <tr>\n",
              "      <th>25%</th>\n",
              "      <td>35.298748</td>\n",
              "      <td>3.575892</td>\n",
              "      <td>19.127590</td>\n",
              "    </tr>\n",
              "    <tr>\n",
              "      <th>50%</th>\n",
              "      <td>42.114924</td>\n",
              "      <td>4.600248</td>\n",
              "      <td>56.005808</td>\n",
              "    </tr>\n",
              "    <tr>\n",
              "      <th>75%</th>\n",
              "      <td>48.666943</td>\n",
              "      <td>5.623922</td>\n",
              "      <td>94.284692</td>\n",
              "    </tr>\n",
              "    <tr>\n",
              "      <th>max</th>\n",
              "      <td>77.938003</td>\n",
              "      <td>43.735239</td>\n",
              "      <td>272.530123</td>\n",
              "    </tr>\n",
              "  </tbody>\n",
              "</table>\n",
              "</div>\n",
              "      <button class=\"colab-df-convert\" onclick=\"convertToInteractive('df-a0a5ada4-b871-4e15-9a46-7ab947e29ea8')\"\n",
              "              title=\"Convert this dataframe to an interactive table.\"\n",
              "              style=\"display:none;\">\n",
              "        \n",
              "  <svg xmlns=\"http://www.w3.org/2000/svg\" height=\"24px\"viewBox=\"0 0 24 24\"\n",
              "       width=\"24px\">\n",
              "    <path d=\"M0 0h24v24H0V0z\" fill=\"none\"/>\n",
              "    <path d=\"M18.56 5.44l.94 2.06.94-2.06 2.06-.94-2.06-.94-.94-2.06-.94 2.06-2.06.94zm-11 1L8.5 8.5l.94-2.06 2.06-.94-2.06-.94L8.5 2.5l-.94 2.06-2.06.94zm10 10l.94 2.06.94-2.06 2.06-.94-2.06-.94-.94-2.06-.94 2.06-2.06.94z\"/><path d=\"M17.41 7.96l-1.37-1.37c-.4-.4-.92-.59-1.43-.59-.52 0-1.04.2-1.43.59L10.3 9.45l-7.72 7.72c-.78.78-.78 2.05 0 2.83L4 21.41c.39.39.9.59 1.41.59.51 0 1.02-.2 1.41-.59l7.78-7.78 2.81-2.81c.8-.78.8-2.07 0-2.86zM5.41 20L4 18.59l7.72-7.72 1.47 1.35L5.41 20z\"/>\n",
              "  </svg>\n",
              "      </button>\n",
              "      \n",
              "  <style>\n",
              "    .colab-df-container {\n",
              "      display:flex;\n",
              "      flex-wrap:wrap;\n",
              "      gap: 12px;\n",
              "    }\n",
              "\n",
              "    .colab-df-convert {\n",
              "      background-color: #E8F0FE;\n",
              "      border: none;\n",
              "      border-radius: 50%;\n",
              "      cursor: pointer;\n",
              "      display: none;\n",
              "      fill: #1967D2;\n",
              "      height: 32px;\n",
              "      padding: 0 0 0 0;\n",
              "      width: 32px;\n",
              "    }\n",
              "\n",
              "    .colab-df-convert:hover {\n",
              "      background-color: #E2EBFA;\n",
              "      box-shadow: 0px 1px 2px rgba(60, 64, 67, 0.3), 0px 1px 3px 1px rgba(60, 64, 67, 0.15);\n",
              "      fill: #174EA6;\n",
              "    }\n",
              "\n",
              "    [theme=dark] .colab-df-convert {\n",
              "      background-color: #3B4455;\n",
              "      fill: #D2E3FC;\n",
              "    }\n",
              "\n",
              "    [theme=dark] .colab-df-convert:hover {\n",
              "      background-color: #434B5C;\n",
              "      box-shadow: 0px 1px 3px 1px rgba(0, 0, 0, 0.15);\n",
              "      filter: drop-shadow(0px 1px 2px rgba(0, 0, 0, 0.3));\n",
              "      fill: #FFFFFF;\n",
              "    }\n",
              "  </style>\n",
              "\n",
              "      <script>\n",
              "        const buttonEl =\n",
              "          document.querySelector('#df-a0a5ada4-b871-4e15-9a46-7ab947e29ea8 button.colab-df-convert');\n",
              "        buttonEl.style.display =\n",
              "          google.colab.kernel.accessAllowed ? 'block' : 'none';\n",
              "\n",
              "        async function convertToInteractive(key) {\n",
              "          const element = document.querySelector('#df-a0a5ada4-b871-4e15-9a46-7ab947e29ea8');\n",
              "          const dataTable =\n",
              "            await google.colab.kernel.invokeFunction('convertToInteractive',\n",
              "                                                     [key], {});\n",
              "          if (!dataTable) return;\n",
              "\n",
              "          const docLinkHtml = 'Like what you see? Visit the ' +\n",
              "            '<a target=\"_blank\" href=https://colab.research.google.com/notebooks/data_table.ipynb>data table notebook</a>'\n",
              "            + ' to learn more about interactive tables.';\n",
              "          element.innerHTML = '';\n",
              "          dataTable['output_type'] = 'display_data';\n",
              "          await google.colab.output.renderOutput(dataTable, element);\n",
              "          const docLink = document.createElement('div');\n",
              "          docLink.innerHTML = docLinkHtml;\n",
              "          element.appendChild(docLink);\n",
              "        }\n",
              "      </script>\n",
              "    </div>\n",
              "  </div>\n",
              "  "
            ]
          },
          "metadata": {},
          "execution_count": 95
        }
      ],
      "source": [
        "# Deskripsi Data Numerical di HR\n",
        "hr_filtered.describe()"
      ]
    },
    {
      "cell_type": "markdown",
      "metadata": {
        "id": "daVvgiEXZv6N"
      },
      "source": [
        "Mean -> memperlihatkan rata-rata dari data\n",
        "\n",
        "---\n",
        "\n",
        "\n",
        "Median -> memperlihatkan nilai tengah data\n",
        "\n",
        "---\n",
        "\n",
        "\n",
        "Standard deviation -> variasi data terhadap mean, kecil = data dekat dengan mean\n",
        "\n",
        "\n",
        "---\n",
        "\n",
        "\n",
        "\n",
        "\n",
        "IQR -> untuk melihat adanya outliers\n",
        "\n",
        "\n"
      ]
    },
    {
      "cell_type": "code",
      "source": [
        "hr_filtered[hr_filtered['age']==17]"
      ],
      "metadata": {
        "colab": {
          "base_uri": "https://localhost:8080/",
          "height": 50
        },
        "id": "FrZKGEnwHW3m",
        "outputId": "118cd2e8-d491-4676-c675-41ccd84d3b5b"
      },
      "execution_count": null,
      "outputs": [
        {
          "output_type": "execute_result",
          "data": {
            "text/plain": [
              "Empty DataFrame\n",
              "Columns: [employee, age, length_service, absent_hours, placement]\n",
              "Index: []"
            ],
            "text/html": [
              "\n",
              "  <div id=\"df-7b06c738-54f6-4eec-8234-e2b5faaf8163\">\n",
              "    <div class=\"colab-df-container\">\n",
              "      <div>\n",
              "<style scoped>\n",
              "    .dataframe tbody tr th:only-of-type {\n",
              "        vertical-align: middle;\n",
              "    }\n",
              "\n",
              "    .dataframe tbody tr th {\n",
              "        vertical-align: top;\n",
              "    }\n",
              "\n",
              "    .dataframe thead th {\n",
              "        text-align: right;\n",
              "    }\n",
              "</style>\n",
              "<table border=\"1\" class=\"dataframe\">\n",
              "  <thead>\n",
              "    <tr style=\"text-align: right;\">\n",
              "      <th></th>\n",
              "      <th>employee</th>\n",
              "      <th>age</th>\n",
              "      <th>length_service</th>\n",
              "      <th>absent_hours</th>\n",
              "      <th>placement</th>\n",
              "    </tr>\n",
              "  </thead>\n",
              "  <tbody>\n",
              "  </tbody>\n",
              "</table>\n",
              "</div>\n",
              "      <button class=\"colab-df-convert\" onclick=\"convertToInteractive('df-7b06c738-54f6-4eec-8234-e2b5faaf8163')\"\n",
              "              title=\"Convert this dataframe to an interactive table.\"\n",
              "              style=\"display:none;\">\n",
              "        \n",
              "  <svg xmlns=\"http://www.w3.org/2000/svg\" height=\"24px\"viewBox=\"0 0 24 24\"\n",
              "       width=\"24px\">\n",
              "    <path d=\"M0 0h24v24H0V0z\" fill=\"none\"/>\n",
              "    <path d=\"M18.56 5.44l.94 2.06.94-2.06 2.06-.94-2.06-.94-.94-2.06-.94 2.06-2.06.94zm-11 1L8.5 8.5l.94-2.06 2.06-.94-2.06-.94L8.5 2.5l-.94 2.06-2.06.94zm10 10l.94 2.06.94-2.06 2.06-.94-2.06-.94-.94-2.06-.94 2.06-2.06.94z\"/><path d=\"M17.41 7.96l-1.37-1.37c-.4-.4-.92-.59-1.43-.59-.52 0-1.04.2-1.43.59L10.3 9.45l-7.72 7.72c-.78.78-.78 2.05 0 2.83L4 21.41c.39.39.9.59 1.41.59.51 0 1.02-.2 1.41-.59l7.78-7.78 2.81-2.81c.8-.78.8-2.07 0-2.86zM5.41 20L4 18.59l7.72-7.72 1.47 1.35L5.41 20z\"/>\n",
              "  </svg>\n",
              "      </button>\n",
              "      \n",
              "  <style>\n",
              "    .colab-df-container {\n",
              "      display:flex;\n",
              "      flex-wrap:wrap;\n",
              "      gap: 12px;\n",
              "    }\n",
              "\n",
              "    .colab-df-convert {\n",
              "      background-color: #E8F0FE;\n",
              "      border: none;\n",
              "      border-radius: 50%;\n",
              "      cursor: pointer;\n",
              "      display: none;\n",
              "      fill: #1967D2;\n",
              "      height: 32px;\n",
              "      padding: 0 0 0 0;\n",
              "      width: 32px;\n",
              "    }\n",
              "\n",
              "    .colab-df-convert:hover {\n",
              "      background-color: #E2EBFA;\n",
              "      box-shadow: 0px 1px 2px rgba(60, 64, 67, 0.3), 0px 1px 3px 1px rgba(60, 64, 67, 0.15);\n",
              "      fill: #174EA6;\n",
              "    }\n",
              "\n",
              "    [theme=dark] .colab-df-convert {\n",
              "      background-color: #3B4455;\n",
              "      fill: #D2E3FC;\n",
              "    }\n",
              "\n",
              "    [theme=dark] .colab-df-convert:hover {\n",
              "      background-color: #434B5C;\n",
              "      box-shadow: 0px 1px 3px 1px rgba(0, 0, 0, 0.15);\n",
              "      filter: drop-shadow(0px 1px 2px rgba(0, 0, 0, 0.3));\n",
              "      fill: #FFFFFF;\n",
              "    }\n",
              "  </style>\n",
              "\n",
              "      <script>\n",
              "        const buttonEl =\n",
              "          document.querySelector('#df-7b06c738-54f6-4eec-8234-e2b5faaf8163 button.colab-df-convert');\n",
              "        buttonEl.style.display =\n",
              "          google.colab.kernel.accessAllowed ? 'block' : 'none';\n",
              "\n",
              "        async function convertToInteractive(key) {\n",
              "          const element = document.querySelector('#df-7b06c738-54f6-4eec-8234-e2b5faaf8163');\n",
              "          const dataTable =\n",
              "            await google.colab.kernel.invokeFunction('convertToInteractive',\n",
              "                                                     [key], {});\n",
              "          if (!dataTable) return;\n",
              "\n",
              "          const docLinkHtml = 'Like what you see? Visit the ' +\n",
              "            '<a target=\"_blank\" href=https://colab.research.google.com/notebooks/data_table.ipynb>data table notebook</a>'\n",
              "            + ' to learn more about interactive tables.';\n",
              "          element.innerHTML = '';\n",
              "          dataTable['output_type'] = 'display_data';\n",
              "          await google.colab.output.renderOutput(dataTable, element);\n",
              "          const docLink = document.createElement('div');\n",
              "          docLink.innerHTML = docLinkHtml;\n",
              "          element.appendChild(docLink);\n",
              "        }\n",
              "      </script>\n",
              "    </div>\n",
              "  </div>\n",
              "  "
            ]
          },
          "metadata": {},
          "execution_count": 96
        }
      ]
    },
    {
      "cell_type": "code",
      "execution_count": null,
      "metadata": {
        "colab": {
          "base_uri": "https://localhost:8080/"
        },
        "id": "tWt-WQYMF59H",
        "outputId": "62f7d6ce-87e3-4406-ff84-083c984b605d"
      },
      "outputs": [
        {
          "output_type": "execute_result",
          "data": {
            "text/plain": [
              "False"
            ]
          },
          "metadata": {},
          "execution_count": 97
        }
      ],
      "source": [
        "hr_filtered.duplicated().any()"
      ]
    },
    {
      "cell_type": "code",
      "execution_count": null,
      "metadata": {
        "colab": {
          "base_uri": "https://localhost:8080/"
        },
        "id": "Om2iRVCaHRHS",
        "outputId": "eed06353-2c0e-4f77-b9b8-7de72b28c1fc"
      },
      "outputs": [
        {
          "output_type": "execute_result",
          "data": {
            "text/plain": [
              "employee          False\n",
              "age               False\n",
              "length_service    False\n",
              "absent_hours      False\n",
              "placement         False\n",
              "dtype: bool"
            ]
          },
          "metadata": {},
          "execution_count": 98
        }
      ],
      "source": [
        "hr_filtered.isna().any()"
      ]
    },
    {
      "cell_type": "markdown",
      "metadata": {
        "id": "oz2BoK128u-7"
      },
      "source": [
        "# Visualisasi"
      ]
    },
    {
      "cell_type": "markdown",
      "metadata": {
        "id": "SFxQeawl9N2g"
      },
      "source": [
        "### Visualisasi Variabel"
      ]
    },
    {
      "cell_type": "code",
      "execution_count": null,
      "metadata": {
        "colab": {
          "base_uri": "https://localhost:8080/",
          "height": 476
        },
        "id": "T5TBPvZY8xw7",
        "outputId": "1fd98402-6cf5-4233-85c0-a0cd3fdf3b8a"
      },
      "outputs": [
        {
          "output_type": "stream",
          "name": "stderr",
          "text": [
            "/usr/local/lib/python3.7/dist-packages/seaborn/distributions.py:2619: FutureWarning: `distplot` is a deprecated function and will be removed in a future version. Please adapt your code to use either `displot` (a figure-level function with similar flexibility) or `histplot` (an axes-level function for histograms).\n",
            "  warnings.warn(msg, FutureWarning)\n"
          ]
        },
        {
          "output_type": "execute_result",
          "data": {
            "text/plain": [
              "<matplotlib.axes._subplots.AxesSubplot at 0x7f050d22de50>"
            ]
          },
          "metadata": {},
          "execution_count": 99
        },
        {
          "output_type": "display_data",
          "data": {
            "text/plain": [
              "<Figure size 432x432 with 1 Axes>"
            ],
            "image/png": "[encoded data removed]"
          },
          "metadata": {
            "needs_background": "light"
          }
        }
      ],
      "source": [
        "#1 Usia Karyawan\n",
        "plt.figure(figsize=(6,6))\n",
        "plt.title('Usia Karyawan')\n",
        "plt.grid()\n",
        "sns.distplot(hr_filtered['age'])"
      ]
    },
    {
      "cell_type": "code",
      "execution_count": null,
      "metadata": {
        "colab": {
          "base_uri": "https://localhost:8080/",
          "height": 295
        },
        "id": "BNKU8V5zNWXc",
        "outputId": "90ae44b1-47e5-465c-8656-11a94eceb3d5"
      },
      "outputs": [
        {
          "output_type": "display_data",
          "data": {
            "text/plain": [
              "<Figure size 432x288 with 1 Axes>"
            ],
            "image/png": "[encoded data removed]"
          },
          "metadata": {
            "needs_background": "light"
          }
        }
      ],
      "source": [
        "plt.hist(hr_filtered['age'],bins = 20)\n",
        "plt.title(\"Jumlah Usia Karyawan\")\n",
        "plt.xlabel(\"Usia Karyawan\")\n",
        "plt.ylabel(\"Jumlah Usia Karyawan\")\n",
        "plt.show()"
      ]
    },
    {
      "cell_type": "code",
      "execution_count": null,
      "metadata": {
        "colab": {
          "base_uri": "https://localhost:8080/",
          "height": 477
        },
        "id": "du6sDUI186Ne",
        "outputId": "e8ae3088-6aef-4df8-b16e-f11de3670204"
      },
      "outputs": [
        {
          "output_type": "stream",
          "name": "stderr",
          "text": [
            "/usr/local/lib/python3.7/dist-packages/seaborn/distributions.py:2619: FutureWarning: `distplot` is a deprecated function and will be removed in a future version. Please adapt your code to use either `displot` (a figure-level function with similar flexibility) or `histplot` (an axes-level function for histograms).\n",
            "  warnings.warn(msg, FutureWarning)\n"
          ]
        },
        {
          "output_type": "execute_result",
          "data": {
            "text/plain": [
              "<matplotlib.axes._subplots.AxesSubplot at 0x7f050d09ba90>"
            ]
          },
          "metadata": {},
          "execution_count": 101
        },
        {
          "output_type": "display_data",
          "data": {
            "text/plain": [
              "<Figure size 432x432 with 1 Axes>"
            ],
            "image/png": "[encoded data removed]"
          },
          "metadata": {
            "needs_background": "light"
          }
        }
      ],
      "source": [
        "#2 Lama bekerja Karyawan\n",
        "plt.figure(figsize=(6,6))\n",
        "plt.title('Lama Bekerja Karyawan')\n",
        "plt.grid()\n",
        "sns.distplot(hr_filtered['length_service'])"
      ]
    },
    {
      "cell_type": "code",
      "execution_count": null,
      "metadata": {
        "colab": {
          "base_uri": "https://localhost:8080/",
          "height": 295
        },
        "id": "U9Ll1L6kM85O",
        "outputId": "54592987-1525-4e2a-fa92-50f58148f9ad"
      },
      "outputs": [
        {
          "output_type": "display_data",
          "data": {
            "text/plain": [
              "<Figure size 432x288 with 1 Axes>"
            ],
            "image/png": "[encoded data removed]"
          },
          "metadata": {
            "needs_background": "light"
          }
        }
      ],
      "source": [
        "plt.hist(hr_filtered['length_service'],bins = 20)\n",
        "plt.title(\"Lama Bekerja dalam 1 tahun\")\n",
        "plt.xlabel(\"Lama Bekerja Karyawan dalam 1 tahun\")\n",
        "plt.ylabel(\"Lama Bekerja Karyawan\")\n",
        "plt.show()"
      ]
    },
    {
      "cell_type": "code",
      "execution_count": null,
      "metadata": {
        "colab": {
          "base_uri": "https://localhost:8080/",
          "height": 477
        },
        "id": "GIiZPLww9Dhp",
        "outputId": "1a4eb45e-d257-4a93-80e7-b61e128d9b39"
      },
      "outputs": [
        {
          "output_type": "stream",
          "name": "stderr",
          "text": [
            "/usr/local/lib/python3.7/dist-packages/seaborn/distributions.py:2619: FutureWarning: `distplot` is a deprecated function and will be removed in a future version. Please adapt your code to use either `displot` (a figure-level function with similar flexibility) or `histplot` (an axes-level function for histograms).\n",
            "  warnings.warn(msg, FutureWarning)\n"
          ]
        },
        {
          "output_type": "execute_result",
          "data": {
            "text/plain": [
              "<matplotlib.axes._subplots.AxesSubplot at 0x7f050d10a810>"
            ]
          },
          "metadata": {},
          "execution_count": 103
        },
        {
          "output_type": "display_data",
          "data": {
            "text/plain": [
              "<Figure size 432x432 with 1 Axes>"
            ],
            "image/png": "[encoded data removed]"
          },
          "metadata": {
            "needs_background": "light"
          }
        }
      ],
      "source": [
        "#2 Lama Tidak Masuk Kerja\n",
        "plt.figure(figsize=(6,6))\n",
        "plt.title('Lama Tidak Masuk Kerja')\n",
        "plt.grid()\n",
        "sns.distplot(hr_filtered['absent_hours'])"
      ]
    },
    {
      "cell_type": "code",
      "execution_count": null,
      "metadata": {
        "colab": {
          "base_uri": "https://localhost:8080/",
          "height": 295
        },
        "id": "39Ch8g7KM23f",
        "outputId": "45b6d6e0-c59b-493c-859f-74fc9a33e3ed"
      },
      "outputs": [
        {
          "output_type": "display_data",
          "data": {
            "text/plain": [
              "<Figure size 432x288 with 1 Axes>"
            ],
            "image/png": "[encoded data removed]"
          },
          "metadata": {
            "needs_background": "light"
          }
        }
      ],
      "source": [
        "plt.hist(hr_filtered['absent_hours'],bins = 20)\n",
        "plt.title(\"Jumlah Karyawan dalam 1 jam\")\n",
        "plt.xlabel(\"Lama Absen dalam 1 jam\")\n",
        "plt.ylabel(\"Jumlah Absen pada Karyawan\")\n",
        "plt.show()"
      ]
    },
    {
      "cell_type": "markdown",
      "metadata": {
        "id": "xYpJ93jp9Rqu"
      },
      "source": [
        "### Cek Outlier\n"
      ]
    },
    {
      "cell_type": "code",
      "execution_count": null,
      "metadata": {
        "colab": {
          "base_uri": "https://localhost:8080/",
          "height": 297
        },
        "id": "YuI1eEl4n8e6",
        "outputId": "a2b910a0-c732-4f8e-95d1-faf803775227"
      },
      "outputs": [
        {
          "output_type": "execute_result",
          "data": {
            "text/plain": [
              "<matplotlib.axes._subplots.AxesSubplot at 0x7f050cd48b90>"
            ]
          },
          "metadata": {},
          "execution_count": 105
        },
        {
          "output_type": "display_data",
          "data": {
            "text/plain": [
              "<Figure size 432x288 with 1 Axes>"
            ],
            "image/png": "[encoded data removed]"
          },
          "metadata": {
            "needs_background": "light"
          }
        }
      ],
      "source": [
        "# cek outliers\n",
        "sns.boxplot(x=hr['absent_hours']) \n",
        "#hr[['absent_hours']].boxplot()"
      ]
    },
    {
      "cell_type": "code",
      "execution_count": null,
      "metadata": {
        "colab": {
          "base_uri": "https://localhost:8080/",
          "height": 296
        },
        "id": "KDz8SAK494GI",
        "outputId": "8f61e929-b67d-42ee-b548-29ec8f8a1b70"
      },
      "outputs": [
        {
          "output_type": "execute_result",
          "data": {
            "text/plain": [
              "<matplotlib.axes._subplots.AxesSubplot at 0x7f050ce08490>"
            ]
          },
          "metadata": {},
          "execution_count": 106
        },
        {
          "output_type": "display_data",
          "data": {
            "text/plain": [
              "<Figure size 432x288 with 1 Axes>"
            ],
            "image/png": "[encoded data removed]"
          },
          "metadata": {
            "needs_background": "light"
          }
        }
      ],
      "source": [
        "# cek outliers\n",
        "sns.boxplot(x=hr['age']) "
      ]
    },
    {
      "cell_type": "code",
      "execution_count": null,
      "metadata": {
        "colab": {
          "base_uri": "https://localhost:8080/",
          "height": 297
        },
        "id": "qVH681Ut-NH-",
        "outputId": "27f04e96-e43d-4e02-b99f-e19129c0a07a"
      },
      "outputs": [
        {
          "output_type": "execute_result",
          "data": {
            "text/plain": [
              "<matplotlib.axes._subplots.AxesSubplot at 0x7f050cf21e50>"
            ]
          },
          "metadata": {},
          "execution_count": 107
        },
        {
          "output_type": "display_data",
          "data": {
            "text/plain": [
              "<Figure size 432x288 with 1 Axes>"
            ],
            "image/png": "[encoded data removed]"
          },
          "metadata": {
            "needs_background": "light"
          }
        }
      ],
      "source": [
        "# cek outliers\n",
        "sns.boxplot(x=hr['length_service']) "
      ]
    },
    {
      "cell_type": "code",
      "execution_count": null,
      "metadata": {
        "colab": {
          "base_uri": "https://localhost:8080/",
          "height": 555
        },
        "id": "EO2c2xPDOMDz",
        "outputId": "faf45fa5-6e01-4afa-b66a-133254420dd4"
      },
      "outputs": [
        {
          "output_type": "execute_result",
          "data": {
            "text/plain": [
              "<matplotlib.axes._subplots.AxesSubplot at 0x7f050d110910>"
            ]
          },
          "metadata": {},
          "execution_count": 108
        },
        {
          "output_type": "display_data",
          "data": {
            "text/plain": [
              "<Figure size 648x648 with 1 Axes>"
            ],
            "image/png": "[encoded data removed]"
          },
          "metadata": {
            "needs_background": "light"
          }
        }
      ],
      "source": [
        "fig, ax = plt.subplots(figsize=(9,9))\n",
        "sns.boxplot(data=hr_filtered[['length_service','age', 'absent_hours']], palette=('#db5f57', '#dbc257', '#91db57', '#57d3db'))"
      ]
    },
    {
      "cell_type": "code",
      "execution_count": null,
      "metadata": {
        "colab": {
          "base_uri": "https://localhost:8080/",
          "height": 352
        },
        "id": "Yl0iQG_iOdpc",
        "outputId": "03da2142-06e7-4d7d-80ed-5656a809c292"
      },
      "outputs": [
        {
          "output_type": "execute_result",
          "data": {
            "text/plain": [
              "<matplotlib.axes._subplots.AxesSubplot at 0x7f050d2be2d0>"
            ]
          },
          "metadata": {},
          "execution_count": 109
        },
        {
          "output_type": "display_data",
          "data": {
            "text/plain": [
              "<Figure size 720x360 with 1 Axes>"
            ],
            "image/png": "[encoded data removed]"
          },
          "metadata": {
            "needs_background": "light"
          }
        }
      ],
      "source": [
        "#memvisualisasikan dataset untuk mengidentifikasi outliers dalam bentuk scatterplot.\n",
        "\n",
        "hr_filtered[['length_service','absent_hours']].plot(kind='scatter', x='length_service', y='absent_hours', figsize=(10, 5))"
      ]
    },
    {
      "cell_type": "code",
      "execution_count": null,
      "metadata": {
        "colab": {
          "base_uri": "https://localhost:8080/",
          "height": 352
        },
        "id": "VsTZ8z33OtyJ",
        "outputId": "f54e6bdb-3de7-44aa-ac2c-d68122eea60e"
      },
      "outputs": [
        {
          "output_type": "execute_result",
          "data": {
            "text/plain": [
              "<matplotlib.axes._subplots.AxesSubplot at 0x7f050d3c98d0>"
            ]
          },
          "metadata": {},
          "execution_count": 110
        },
        {
          "output_type": "display_data",
          "data": {
            "text/plain": [
              "<Figure size 720x360 with 1 Axes>"
            ],
            "image/png": "[encoded data removed]"
          },
          "metadata": {
            "needs_background": "light"
          }
        }
      ],
      "source": [
        "#memvisualisasikan dataset untuk mengidentifikasi outliers dalam bentuk scatterplot.\n",
        "\n",
        "hr_filtered[['length_service','age']].plot(kind='scatter', x='length_service', y='age', figsize=(10, 5))"
      ]
    },
    {
      "cell_type": "code",
      "execution_count": null,
      "metadata": {
        "colab": {
          "base_uri": "https://localhost:8080/",
          "height": 352
        },
        "id": "yKnBrkTiPEZ4",
        "outputId": "569348cd-8337-4474-b740-f61b7a091d1f"
      },
      "outputs": [
        {
          "output_type": "execute_result",
          "data": {
            "text/plain": [
              "<matplotlib.axes._subplots.AxesSubplot at 0x7f0511d460d0>"
            ]
          },
          "metadata": {},
          "execution_count": 111
        },
        {
          "output_type": "display_data",
          "data": {
            "text/plain": [
              "<Figure size 720x360 with 1 Axes>"
            ],
            "image/png": "[encoded data removed]"
          },
          "metadata": {
            "needs_background": "light"
          }
        }
      ],
      "source": [
        "#memvisualisasikan dataset untuk mengidentifikasi outliers dalam bentuk scatterplot.\n",
        "\n",
        "hr_filtered[['absent_hours','age']].plot(kind='scatter', x='absent_hours', y='age', figsize=(10, 5))"
      ]
    },
    {
      "cell_type": "code",
      "execution_count": null,
      "metadata": {
        "colab": {
          "base_uri": "https://localhost:8080/",
          "height": 628
        },
        "id": "tWSaV3-_9VPJ",
        "outputId": "530126d2-58f6-420c-df5a-da8bc1515b86"
      },
      "outputs": [
        {
          "output_type": "stream",
          "name": "stderr",
          "text": [
            "/usr/local/lib/python3.7/dist-packages/seaborn/_decorators.py:43: FutureWarning: Pass the following variables as keyword args: x, y. From version 0.12, the only valid positional argument will be `data`, and passing other arguments without an explicit keyword will result in an error or misinterpretation.\n",
            "  FutureWarning\n"
          ]
        },
        {
          "output_type": "display_data",
          "data": {
            "text/plain": [
              "<Figure size 1440x648 with 1 Axes>"
            ],
            "image/png": "[encoded data removed]"
          },
          "metadata": {
            "needs_background": "light"
          }
        }
      ],
      "source": [
        "# Visualisasi per distribusi berdasarkan absen pada gender\n",
        "plt.figure(figsize=(20, 9))\n",
        "sns.boxplot(\"id\", \"absent_hours\", hue=\"gender\", data=hr)\n",
        "plt.xticks(rotation = 45)\n",
        "plt.title('Absenteeism per Distribution');"
      ]
    },
    {
      "cell_type": "code",
      "execution_count": null,
      "metadata": {
        "colab": {
          "base_uri": "https://localhost:8080/",
          "height": 625
        },
        "id": "rpSCyVJH9ZU9",
        "outputId": "ee405afa-aa82-4fea-9daa-33dafd63301b"
      },
      "outputs": [
        {
          "output_type": "stream",
          "name": "stderr",
          "text": [
            "/usr/local/lib/python3.7/dist-packages/seaborn/_decorators.py:43: FutureWarning: Pass the following variables as keyword args: x, y. From version 0.12, the only valid positional argument will be `data`, and passing other arguments without an explicit keyword will result in an error or misinterpretation.\n",
            "  FutureWarning\n"
          ]
        },
        {
          "output_type": "display_data",
          "data": {
            "text/plain": [
              "<Figure size 1440x648 with 1 Axes>"
            ],
            "image/png": "[encoded data removed]"
          },
          "metadata": {
            "needs_background": "light"
          }
        }
      ],
      "source": [
        "plt.figure(figsize=(20, 9))\n",
        "sns.boxplot(\"gender\", \"absent_hours\", hue=\"name\", data=hr)\n",
        "plt.xticks(rotation = 45)\n",
        "plt.title('Absenteeism per gender');"
      ]
    },
    {
      "cell_type": "markdown",
      "source": [
        "### IQR\n"
      ],
      "metadata": {
        "id": "K1yTQH0SNp6K"
      }
    },
    {
      "cell_type": "code",
      "source": [
        "#Menghitung IQR age.\n",
        "\n",
        "Q1_age = hr_filtered.age.quantile(0.25)\n",
        "Q3_age = hr_filtered.age.quantile(0.75)\n",
        "IQR_age = Q3_age-Q1_age\n",
        "IQR_age"
      ],
      "metadata": {
        "colab": {
          "base_uri": "https://localhost:8080/"
        },
        "id": "Xwo28eJONlGU",
        "outputId": "7e659a69-a938-46e6-8e1b-a165ddec1dc1"
      },
      "execution_count": null,
      "outputs": [
        {
          "output_type": "execute_result",
          "data": {
            "text/plain": [
              "13.368194912499995"
            ]
          },
          "metadata": {},
          "execution_count": 114
        }
      ]
    },
    {
      "cell_type": "code",
      "source": [
        "#Mendefinisikan outliers 'age'\n",
        "\n",
        "min_age = hr_filtered.age.quantile(0.035)\n",
        "max_age = hr_filtered.age.quantile(0.99)\n",
        "min_age, max_age"
      ],
      "metadata": {
        "colab": {
          "base_uri": "https://localhost:8080/"
        },
        "id": "r8jQDc1-Nv3v",
        "outputId": "6fcecfc2-ea4b-4319-9459-cbc0c64792f8"
      },
      "execution_count": null,
      "outputs": [
        {
          "output_type": "execute_result",
          "data": {
            "text/plain": [
              "(23.96168009, 65.28594438399999)"
            ]
          },
          "metadata": {},
          "execution_count": 115
        }
      ]
    },
    {
      "cell_type": "code",
      "source": [
        "#Menghitung IQR length_service.\n",
        "\n",
        "Q1_length = hr_filtered.length_service.quantile(0.25)\n",
        "Q3_length = hr_filtered.length_service.quantile(0.75)\n",
        "IQR_length = Q3_length-Q1_length\n",
        "IQR_length"
      ],
      "metadata": {
        "colab": {
          "base_uri": "https://localhost:8080/"
        },
        "id": "cXSpyVPmN1Tm",
        "outputId": "e272cfb5-0d3b-4c20-e215-4e21b6cd62ef"
      },
      "execution_count": null,
      "outputs": [
        {
          "output_type": "execute_result",
          "data": {
            "text/plain": [
              "2.04802997"
            ]
          },
          "metadata": {},
          "execution_count": 116
        }
      ]
    },
    {
      "cell_type": "code",
      "source": [
        "#Mendefinisikan outliers 'length_service'\n",
        "\n",
        "min_length = Q1_length - 1.5*IQR_length\n",
        "max_length = Q3_length + 1.5*IQR_length\n",
        "min_length, max_length"
      ],
      "metadata": {
        "colab": {
          "base_uri": "https://localhost:8080/"
        },
        "id": "qw6A_mjsN6sE",
        "outputId": "06826654-b35a-4a21-948e-886653b4d00f"
      },
      "execution_count": null,
      "outputs": [
        {
          "output_type": "execute_result",
          "data": {
            "text/plain": [
              "(0.5038469635, 8.695966843499999)"
            ]
          },
          "metadata": {},
          "execution_count": 117
        }
      ]
    },
    {
      "cell_type": "code",
      "source": [
        "#Menghitung IQR absent_hours.\n",
        "\n",
        "Q1_absent = hr_filtered.absent_hours.quantile(0.25)\n",
        "Q3_absent = hr_filtered.absent_hours.quantile(0.75)\n",
        "IQR_absent = Q3_absent-Q1_absent\n",
        "IQR_absent"
      ],
      "metadata": {
        "colab": {
          "base_uri": "https://localhost:8080/"
        },
        "id": "rkCuZnfZN9tD",
        "outputId": "5b049bb7-4d42-48cc-808a-796d1a3c8567"
      },
      "execution_count": null,
      "outputs": [
        {
          "output_type": "execute_result",
          "data": {
            "text/plain": [
              "75.15710185"
            ]
          },
          "metadata": {},
          "execution_count": 118
        }
      ]
    },
    {
      "cell_type": "code",
      "source": [
        "#Mendefinisikan outliers 'length_service'\n",
        "\n",
        "min_absent= hr_filtered.absent_hours.quantile(0.24)\n",
        "max_absent = hr_filtered.absent_hours.quantile(0.985)\n",
        "min_absent, max_absent"
      ],
      "metadata": {
        "colab": {
          "base_uri": "https://localhost:8080/"
        },
        "id": "uSYkQlA9OCIL",
        "outputId": "93d5742c-6bb0-40c3-a7bf-ad3793ccbd08"
      },
      "execution_count": null,
      "outputs": [
        {
          "output_type": "execute_result",
          "data": {
            "text/plain": [
              "(17.155704913999998, 182.70385920500007)"
            ]
          },
          "metadata": {},
          "execution_count": 119
        }
      ]
    },
    {
      "cell_type": "code",
      "source": [
        "hr_filtered_2 = hr_filtered[(hr_filtered.length_service<max_length) & (hr_filtered.length_service>min_length)]\n",
        "hr_filtered_3 = hr_filtered_2[(hr_filtered.absent_hours<max_absent) & (hr_filtered.absent_hours>min_absent)]\n",
        "hr_clean = hr_filtered_3[(hr_filtered.age<max_age) & (hr_filtered.age>=min_age)]"
      ],
      "metadata": {
        "colab": {
          "base_uri": "https://localhost:8080/"
        },
        "id": "Kckcy6neOHmT",
        "outputId": "a3f70732-0cf4-462e-f4b8-3a84b3115dd4"
      },
      "execution_count": null,
      "outputs": [
        {
          "output_type": "stream",
          "name": "stderr",
          "text": [
            "/usr/local/lib/python3.7/dist-packages/ipykernel_launcher.py:2: UserWarning: Boolean Series key will be reindexed to match DataFrame index.\n",
            "  \n",
            "/usr/local/lib/python3.7/dist-packages/ipykernel_launcher.py:3: UserWarning: Boolean Series key will be reindexed to match DataFrame index.\n",
            "  This is separate from the ipykernel package so we can avoid doing imports until\n"
          ]
        }
      ]
    },
    {
      "cell_type": "markdown",
      "metadata": {
        "id": "pHIHCIPf9f3n"
      },
      "source": [
        "###Korelasi "
      ]
    },
    {
      "cell_type": "code",
      "execution_count": null,
      "metadata": {
        "colab": {
          "base_uri": "https://localhost:8080/"
        },
        "id": "r7HBkLVp9hoj",
        "outputId": "d8ac87ac-273d-45b8-a99f-43b504545a3c"
      },
      "outputs": [
        {
          "output_type": "execute_result",
          "data": {
            "text/plain": [
              "length_service   -0.044202\n",
              "age               0.830234\n",
              "absent_hours      1.000000\n",
              "Name: absent_hours, dtype: float64"
            ]
          },
          "metadata": {},
          "execution_count": 121
        }
      ],
      "source": [
        "hr_filtered.corr()['absent_hours'].sort_values()"
      ]
    },
    {
      "cell_type": "code",
      "execution_count": null,
      "metadata": {
        "colab": {
          "base_uri": "https://localhost:8080/",
          "height": 287
        },
        "id": "rKBs-2I7ntRN",
        "outputId": "c5ab94bd-6f6b-47e9-97c3-7e6da84a19ad"
      },
      "outputs": [
        {
          "output_type": "execute_result",
          "data": {
            "text/plain": [
              "<matplotlib.axes._subplots.AxesSubplot at 0x7f050cbdbfd0>"
            ]
          },
          "metadata": {},
          "execution_count": 122
        },
        {
          "output_type": "display_data",
          "data": {
            "text/plain": [
              "<Figure size 432x288 with 2 Axes>"
            ],
            "image/png": "[encoded data removed]"
          },
          "metadata": {
            "needs_background": "light"
          }
        }
      ],
      "source": [
        "# cek korelasi, berarti kolom age dan absent hours berkorelasi\n",
        "corrMatrix = hr_filtered.corr()\n",
        "sns.heatmap(corrMatrix, annot = True, cmap = 'coolwarm')"
      ]
    },
    {
      "cell_type": "markdown",
      "metadata": {
        "id": "AteTB_ZJO7MI"
      },
      "source": [
        "## Handling Outlier"
      ]
    },
    {
      "cell_type": "code",
      "execution_count": null,
      "metadata": {
        "id": "rt8sunQDO_5q"
      },
      "outputs": [],
      "source": [
        "#Handling outliers.\n",
        "\n",
        "def outlier(hr, ft):\n",
        "  Q1 = hr[ft].quantile(0.25)\n",
        "  Q3 = hr[ft].quantile(0.75)\n",
        "  IQR = Q3 - Q1\n",
        "\n",
        "  lower_bound = Q1 - 1.5 * IQR\n",
        "  upper_bound = Q3 + 1.5 * IQR\n",
        "\n",
        "  ls = hr_filtered.index[ (hr_filtered[ft] < lower_bound) | (hr_filtered[ft] > upper_bound)]\n",
        "\n",
        "  return ls"
      ]
    },
    {
      "cell_type": "code",
      "execution_count": null,
      "metadata": {
        "id": "7obR8D0FTqvJ"
      },
      "outputs": [],
      "source": [
        "#Handling outliers.\n",
        "\n",
        "index_list = []\n",
        "for feature in ['absent_hours', 'length_service', 'age']:\n",
        "  index_list.extend(outlier(hr_filtered, feature))"
      ]
    },
    {
      "cell_type": "code",
      "execution_count": null,
      "metadata": {
        "id": "VrD3OM_2Tw-x"
      },
      "outputs": [],
      "source": [
        "#Handling outliers.\n",
        "\n",
        "def remove(hr_filtered, ls):\n",
        "  ls = sorted(set(ls))\n",
        "  hr_filtered = hr_filtered.drop(ls)\n",
        "  return hr_filtered"
      ]
    },
    {
      "cell_type": "code",
      "execution_count": null,
      "metadata": {
        "id": "TqeL7U5WUAYG"
      },
      "outputs": [],
      "source": [
        "#Handling outliers.\n",
        "\n",
        "hr_clean = remove(hr_filtered, index_list)"
      ]
    },
    {
      "cell_type": "code",
      "execution_count": null,
      "metadata": {
        "colab": {
          "base_uri": "https://localhost:8080/",
          "height": 446
        },
        "id": "tJb_OXPTURvX",
        "outputId": "5f0b2109-749f-4297-9a01-cb5b816a941b"
      },
      "outputs": [
        {
          "output_type": "execute_result",
          "data": {
            "text/plain": [
              "<matplotlib.axes._subplots.AxesSubplot at 0x7f050ca8b8d0>"
            ]
          },
          "metadata": {},
          "execution_count": 127
        },
        {
          "output_type": "display_data",
          "data": {
            "text/plain": [
              "<Figure size 504x504 with 1 Axes>"
            ],
            "image/png": "[encoded data removed]"
          },
          "metadata": {
            "needs_background": "light"
          }
        }
      ],
      "source": [
        "#Visualisasi boxplot setelah handling outliers.\n",
        "\n",
        "fig, ax = plt.subplots(figsize=(7,7))\n",
        "sns.boxplot(data=hr_clean[['length_service','age', 'absent_hours']], palette=('#db5f57', '#dbc257', '#91db57', '#57d3db'))"
      ]
    },
    {
      "cell_type": "code",
      "execution_count": null,
      "metadata": {
        "colab": {
          "base_uri": "https://localhost:8080/",
          "height": 301
        },
        "id": "Zfo7yeYFUpu6",
        "outputId": "9f2b6120-9e0d-4c1f-970d-1e3a49c7ceab"
      },
      "outputs": [
        {
          "output_type": "execute_result",
          "data": {
            "text/plain": [
              "               age  length_service  absent_hours\n",
              "count  8077.000000     8077.000000   8077.000000\n",
              "mean     41.892540        4.571656     60.793529\n",
              "std       9.559347        1.463967     47.434967\n",
              "min      15.369733        0.508195      0.000000\n",
              "25%      35.257140        3.565788     19.741507\n",
              "50%      42.012243        4.571825     56.195872\n",
              "75%      48.484542        5.559828     94.037545\n",
              "max      68.492142        8.674857    207.011745"
            ],
            "text/html": [
              "\n",
              "  <div id=\"df-af511cad-e3ee-4058-844d-fa1a8cea3815\">\n",
              "    <div class=\"colab-df-container\">\n",
              "      <div>\n",
              "<style scoped>\n",
              "    .dataframe tbody tr th:only-of-type {\n",
              "        vertical-align: middle;\n",
              "    }\n",
              "\n",
              "    .dataframe tbody tr th {\n",
              "        vertical-align: top;\n",
              "    }\n",
              "\n",
              "    .dataframe thead th {\n",
              "        text-align: right;\n",
              "    }\n",
              "</style>\n",
              "<table border=\"1\" class=\"dataframe\">\n",
              "  <thead>\n",
              "    <tr style=\"text-align: right;\">\n",
              "      <th></th>\n",
              "      <th>age</th>\n",
              "      <th>length_service</th>\n",
              "      <th>absent_hours</th>\n",
              "    </tr>\n",
              "  </thead>\n",
              "  <tbody>\n",
              "    <tr>\n",
              "      <th>count</th>\n",
              "      <td>8077.000000</td>\n",
              "      <td>8077.000000</td>\n",
              "      <td>8077.000000</td>\n",
              "    </tr>\n",
              "    <tr>\n",
              "      <th>mean</th>\n",
              "      <td>41.892540</td>\n",
              "      <td>4.571656</td>\n",
              "      <td>60.793529</td>\n",
              "    </tr>\n",
              "    <tr>\n",
              "      <th>std</th>\n",
              "      <td>9.559347</td>\n",
              "      <td>1.463967</td>\n",
              "      <td>47.434967</td>\n",
              "    </tr>\n",
              "    <tr>\n",
              "      <th>min</th>\n",
              "      <td>15.369733</td>\n",
              "      <td>0.508195</td>\n",
              "      <td>0.000000</td>\n",
              "    </tr>\n",
              "    <tr>\n",
              "      <th>25%</th>\n",
              "      <td>35.257140</td>\n",
              "      <td>3.565788</td>\n",
              "      <td>19.741507</td>\n",
              "    </tr>\n",
              "    <tr>\n",
              "      <th>50%</th>\n",
              "      <td>42.012243</td>\n",
              "      <td>4.571825</td>\n",
              "      <td>56.195872</td>\n",
              "    </tr>\n",
              "    <tr>\n",
              "      <th>75%</th>\n",
              "      <td>48.484542</td>\n",
              "      <td>5.559828</td>\n",
              "      <td>94.037545</td>\n",
              "    </tr>\n",
              "    <tr>\n",
              "      <th>max</th>\n",
              "      <td>68.492142</td>\n",
              "      <td>8.674857</td>\n",
              "      <td>207.011745</td>\n",
              "    </tr>\n",
              "  </tbody>\n",
              "</table>\n",
              "</div>\n",
              "      <button class=\"colab-df-convert\" onclick=\"convertToInteractive('df-af511cad-e3ee-4058-844d-fa1a8cea3815')\"\n",
              "              title=\"Convert this dataframe to an interactive table.\"\n",
              "              style=\"display:none;\">\n",
              "        \n",
              "  <svg xmlns=\"http://www.w3.org/2000/svg\" height=\"24px\"viewBox=\"0 0 24 24\"\n",
              "       width=\"24px\">\n",
              "    <path d=\"M0 0h24v24H0V0z\" fill=\"none\"/>\n",
              "    <path d=\"M18.56 5.44l.94 2.06.94-2.06 2.06-.94-2.06-.94-.94-2.06-.94 2.06-2.06.94zm-11 1L8.5 8.5l.94-2.06 2.06-.94-2.06-.94L8.5 2.5l-.94 2.06-2.06.94zm10 10l.94 2.06.94-2.06 2.06-.94-2.06-.94-.94-2.06-.94 2.06-2.06.94z\"/><path d=\"M17.41 7.96l-1.37-1.37c-.4-.4-.92-.59-1.43-.59-.52 0-1.04.2-1.43.59L10.3 9.45l-7.72 7.72c-.78.78-.78 2.05 0 2.83L4 21.41c.39.39.9.59 1.41.59.51 0 1.02-.2 1.41-.59l7.78-7.78 2.81-2.81c.8-.78.8-2.07 0-2.86zM5.41 20L4 18.59l7.72-7.72 1.47 1.35L5.41 20z\"/>\n",
              "  </svg>\n",
              "      </button>\n",
              "      \n",
              "  <style>\n",
              "    .colab-df-container {\n",
              "      display:flex;\n",
              "      flex-wrap:wrap;\n",
              "      gap: 12px;\n",
              "    }\n",
              "\n",
              "    .colab-df-convert {\n",
              "      background-color: #E8F0FE;\n",
              "      border: none;\n",
              "      border-radius: 50%;\n",
              "      cursor: pointer;\n",
              "      display: none;\n",
              "      fill: #1967D2;\n",
              "      height: 32px;\n",
              "      padding: 0 0 0 0;\n",
              "      width: 32px;\n",
              "    }\n",
              "\n",
              "    .colab-df-convert:hover {\n",
              "      background-color: #E2EBFA;\n",
              "      box-shadow: 0px 1px 2px rgba(60, 64, 67, 0.3), 0px 1px 3px 1px rgba(60, 64, 67, 0.15);\n",
              "      fill: #174EA6;\n",
              "    }\n",
              "\n",
              "    [theme=dark] .colab-df-convert {\n",
              "      background-color: #3B4455;\n",
              "      fill: #D2E3FC;\n",
              "    }\n",
              "\n",
              "    [theme=dark] .colab-df-convert:hover {\n",
              "      background-color: #434B5C;\n",
              "      box-shadow: 0px 1px 3px 1px rgba(0, 0, 0, 0.15);\n",
              "      filter: drop-shadow(0px 1px 2px rgba(0, 0, 0, 0.3));\n",
              "      fill: #FFFFFF;\n",
              "    }\n",
              "  </style>\n",
              "\n",
              "      <script>\n",
              "        const buttonEl =\n",
              "          document.querySelector('#df-af511cad-e3ee-4058-844d-fa1a8cea3815 button.colab-df-convert');\n",
              "        buttonEl.style.display =\n",
              "          google.colab.kernel.accessAllowed ? 'block' : 'none';\n",
              "\n",
              "        async function convertToInteractive(key) {\n",
              "          const element = document.querySelector('#df-af511cad-e3ee-4058-844d-fa1a8cea3815');\n",
              "          const dataTable =\n",
              "            await google.colab.kernel.invokeFunction('convertToInteractive',\n",
              "                                                     [key], {});\n",
              "          if (!dataTable) return;\n",
              "\n",
              "          const docLinkHtml = 'Like what you see? Visit the ' +\n",
              "            '<a target=\"_blank\" href=https://colab.research.google.com/notebooks/data_table.ipynb>data table notebook</a>'\n",
              "            + ' to learn more about interactive tables.';\n",
              "          element.innerHTML = '';\n",
              "          dataTable['output_type'] = 'display_data';\n",
              "          await google.colab.output.renderOutput(dataTable, element);\n",
              "          const docLink = document.createElement('div');\n",
              "          docLink.innerHTML = docLinkHtml;\n",
              "          element.appendChild(docLink);\n",
              "        }\n",
              "      </script>\n",
              "    </div>\n",
              "  </div>\n",
              "  "
            ]
          },
          "metadata": {},
          "execution_count": 128
        }
      ],
      "source": [
        "#Descriptive Statisics dataframe baru\n",
        "\n",
        "hr_clean.describe()"
      ]
    },
    {
      "cell_type": "code",
      "execution_count": null,
      "metadata": {
        "colab": {
          "base_uri": "https://localhost:8080/",
          "height": 287
        },
        "id": "Nm1r3fEMVD1p",
        "outputId": "2fb411b7-d682-4352-8ac9-28fd631fcb2a"
      },
      "outputs": [
        {
          "output_type": "execute_result",
          "data": {
            "text/plain": [
              "<matplotlib.axes._subplots.AxesSubplot at 0x7f050ca14d10>"
            ]
          },
          "metadata": {},
          "execution_count": 129
        },
        {
          "output_type": "display_data",
          "data": {
            "text/plain": [
              "<Figure size 432x288 with 2 Axes>"
            ],
            "image/png": "[encoded data removed]"
          },
          "metadata": {
            "needs_background": "light"
          }
        }
      ],
      "source": [
        "# cek korelasi, berarti kolom age dan absent hours berkorelasi\n",
        "corrMatrix = hr_clean.corr()\n",
        "sns.heatmap(corrMatrix, annot = True, cmap = 'coolwarm')"
      ]
    },
    {
      "cell_type": "code",
      "execution_count": null,
      "metadata": {
        "colab": {
          "base_uri": "https://localhost:8080/",
          "height": 352
        },
        "id": "N7lWXiG0VNzH",
        "outputId": "bcd5e247-5632-4949-8b97-b18220ef2956"
      },
      "outputs": [
        {
          "output_type": "execute_result",
          "data": {
            "text/plain": [
              "<matplotlib.axes._subplots.AxesSubplot at 0x7f050c9527d0>"
            ]
          },
          "metadata": {},
          "execution_count": 130
        },
        {
          "output_type": "display_data",
          "data": {
            "text/plain": [
              "<Figure size 720x360 with 1 Axes>"
            ],
            "image/png": "[encoded data removed]"
          },
          "metadata": {
            "needs_background": "light"
          }
        }
      ],
      "source": [
        "#memvisualisasikan korelasi variabel 'length_service' dengan 'absent_hours' dalam bentuk scatterplot.\n",
        "\n",
        "hr_clean[['length_service','absent_hours']].plot(kind='scatter', x='length_service', y='absent_hours', figsize=(10, 5))"
      ]
    },
    {
      "cell_type": "code",
      "execution_count": null,
      "metadata": {
        "colab": {
          "base_uri": "https://localhost:8080/",
          "height": 352
        },
        "id": "vQ_OljAsVVRw",
        "outputId": "9815c8ac-dc00-4492-c2e2-16ce971a4e44"
      },
      "outputs": [
        {
          "output_type": "execute_result",
          "data": {
            "text/plain": [
              "<matplotlib.axes._subplots.AxesSubplot at 0x7f050c8d6b50>"
            ]
          },
          "metadata": {},
          "execution_count": 131
        },
        {
          "output_type": "display_data",
          "data": {
            "text/plain": [
              "<Figure size 720x360 with 1 Axes>"
            ],
            "image/png": "[encoded data removed]"
          },
          "metadata": {
            "needs_background": "light"
          }
        }
      ],
      "source": [
        "#memvisualisasikan korelasi variabel 'length_service' dengan 'age' dalam bentuk scatterplot.\n",
        "\n",
        "hr_clean[['length_service','age']].plot(kind='scatter', x='length_service', y='age', figsize=(10, 5))"
      ]
    },
    {
      "cell_type": "code",
      "execution_count": null,
      "metadata": {
        "colab": {
          "base_uri": "https://localhost:8080/",
          "height": 351
        },
        "id": "fREsOVOlVeCT",
        "outputId": "e43cd63b-4696-4fd3-f9c9-52a5b6ec39d3"
      },
      "outputs": [
        {
          "output_type": "execute_result",
          "data": {
            "text/plain": [
              "<matplotlib.axes._subplots.AxesSubplot at 0x7f051197fa50>"
            ]
          },
          "metadata": {},
          "execution_count": 132
        },
        {
          "output_type": "display_data",
          "data": {
            "text/plain": [
              "<Figure size 720x360 with 1 Axes>"
            ],
            "image/png": "[encoded data removed]"
          },
          "metadata": {
            "needs_background": "light"
          }
        }
      ],
      "source": [
        "#memvisualisasikan korelasi variabel 'age' dengan 'absent_hours' dalam bentuk scatterplot.\n",
        "\n",
        "hr_clean[['age','absent_hours']].plot(kind='scatter', x='age', y='absent_hours', figsize=(10, 5))"
      ]
    },
    {
      "cell_type": "code",
      "execution_count": null,
      "metadata": {
        "colab": {
          "base_uri": "https://localhost:8080/",
          "height": 325
        },
        "id": "lZT47bLwz3Eh",
        "outputId": "cc35aa72-3e3e-4a0a-d80b-3174b1ae8368"
      },
      "outputs": [
        {
          "output_type": "display_data",
          "data": {
            "text/plain": [
              "<Figure size 720x1440 with 2 Axes>"
            ],
            "image/png": "[encoded data removed]"
          },
          "metadata": {
            "needs_background": "light"
          }
        }
      ],
      "source": [
        "# visualisasi hubungan antar variabel menggunakan scatter plot\n",
        "def scatter(x,fig):\n",
        "    plt.subplot(5,2,fig)\n",
        "    plt.scatter(hr_filtered['age'],hr_filtered[x])\n",
        "    plt.title('age vs ' +x)\n",
        "    plt.ylabel('age')\n",
        "    plt.xlabel(x)\n",
        "\n",
        "plt.figure(figsize=(10,20))\n",
        "\n",
        "scatter('length_service', 1)\n",
        "scatter('absent_hours', 2)\n",
        "\n",
        "plt.tight_layout()"
      ]
    },
    {
      "cell_type": "code",
      "execution_count": null,
      "metadata": {
        "colab": {
          "base_uri": "https://localhost:8080/",
          "height": 640
        },
        "id": "Nyz9ZJ1LVjfS",
        "outputId": "9213c4f3-e4d0-4b55-94ab-9a9966178cc0"
      },
      "outputs": [
        {
          "output_type": "execute_result",
          "data": {
            "text/plain": [
              "array([[<matplotlib.axes._subplots.AxesSubplot object at 0x7f0511d1ff10>,\n",
              "        <matplotlib.axes._subplots.AxesSubplot object at 0x7f050d46c250>],\n",
              "       [<matplotlib.axes._subplots.AxesSubplot object at 0x7f050d47ea10>,\n",
              "        <matplotlib.axes._subplots.AxesSubplot object at 0x7f050d3df490>]],\n",
              "      dtype=object)"
            ]
          },
          "metadata": {},
          "execution_count": 134
        },
        {
          "output_type": "display_data",
          "data": {
            "text/plain": [
              "<Figure size 720x648 with 4 Axes>"
            ],
            "image/png": "[encoded data removed]"
          },
          "metadata": {
            "needs_background": "light"
          }
        }
      ],
      "source": [
        "#Visualisasi dalam bentuk histogram.\n",
        "\n",
        "hr_clean[['length_service','absent_hours','age']].hist(bins=60, figsize=(10,9))"
      ]
    },
    {
      "cell_type": "code",
      "execution_count": null,
      "metadata": {
        "colab": {
          "base_uri": "https://localhost:8080/",
          "height": 428
        },
        "id": "mK6cQg9LBHQ7",
        "outputId": "52e613b9-4b30-4018-fd05-e815a29c3c85"
      },
      "outputs": [
        {
          "output_type": "execute_result",
          "data": {
            "text/plain": [
              "<matplotlib.axes._subplots.AxesSubplot at 0x7f050c863290>"
            ]
          },
          "metadata": {},
          "execution_count": 135
        },
        {
          "output_type": "display_data",
          "data": {
            "text/plain": [
              "<Figure size 504x504 with 1 Axes>"
            ],
            "image/png": "[encoded data removed]"
          },
          "metadata": {}
        }
      ],
      "source": [
        "#presantase tiap kategori\n",
        "hr['gender'].value_counts().plot(figsize=(7,7),kind='pie', autopct = \"%.1f%%\")"
      ]
    },
    {
      "cell_type": "markdown",
      "metadata": {
        "id": "ZZM8c541XYY8"
      },
      "source": [
        "# Data Modelling\n"
      ]
    },
    {
      "cell_type": "code",
      "execution_count": null,
      "metadata": {
        "colab": {
          "base_uri": "https://localhost:8080/",
          "height": 206
        },
        "id": "tXg-JO1ZfNU_",
        "outputId": "8f5f45bf-b794-4c47-d3da-789c1bf01b5e"
      },
      "outputs": [
        {
          "output_type": "execute_result",
          "data": {
            "text/plain": [
              "    employee        age  length_service  absent_hours       placement\n",
              "0  Gutierrez  32.028816        6.018478     36.577306  New Orleans LA\n",
              "1   Hardwick  40.320902        5.532445     30.165072   Charleston SC\n",
              "2    Delgado  48.822047        4.389973     83.807798     Savannah GA\n",
              "3      Simon  44.599357        3.081736     70.020165      Chicago IL\n",
              "4   Delvalle  35.697876        3.619091      0.000000  Los Angeles CA"
            ],
            "text/html": [
              "\n",
              "  <div id=\"df-e7c7a394-17cc-48ce-b6da-bcf891bcf692\">\n",
              "    <div class=\"colab-df-container\">\n",
              "      <div>\n",
              "<style scoped>\n",
              "    .dataframe tbody tr th:only-of-type {\n",
              "        vertical-align: middle;\n",
              "    }\n",
              "\n",
              "    .dataframe tbody tr th {\n",
              "        vertical-align: top;\n",
              "    }\n",
              "\n",
              "    .dataframe thead th {\n",
              "        text-align: right;\n",
              "    }\n",
              "</style>\n",
              "<table border=\"1\" class=\"dataframe\">\n",
              "  <thead>\n",
              "    <tr style=\"text-align: right;\">\n",
              "      <th></th>\n",
              "      <th>employee</th>\n",
              "      <th>age</th>\n",
              "      <th>length_service</th>\n",
              "      <th>absent_hours</th>\n",
              "      <th>placement</th>\n",
              "    </tr>\n",
              "  </thead>\n",
              "  <tbody>\n",
              "    <tr>\n",
              "      <th>0</th>\n",
              "      <td>Gutierrez</td>\n",
              "      <td>32.028816</td>\n",
              "      <td>6.018478</td>\n",
              "      <td>36.577306</td>\n",
              "      <td>New Orleans LA</td>\n",
              "    </tr>\n",
              "    <tr>\n",
              "      <th>1</th>\n",
              "      <td>Hardwick</td>\n",
              "      <td>40.320902</td>\n",
              "      <td>5.532445</td>\n",
              "      <td>30.165072</td>\n",
              "      <td>Charleston SC</td>\n",
              "    </tr>\n",
              "    <tr>\n",
              "      <th>2</th>\n",
              "      <td>Delgado</td>\n",
              "      <td>48.822047</td>\n",
              "      <td>4.389973</td>\n",
              "      <td>83.807798</td>\n",
              "      <td>Savannah GA</td>\n",
              "    </tr>\n",
              "    <tr>\n",
              "      <th>3</th>\n",
              "      <td>Simon</td>\n",
              "      <td>44.599357</td>\n",
              "      <td>3.081736</td>\n",
              "      <td>70.020165</td>\n",
              "      <td>Chicago IL</td>\n",
              "    </tr>\n",
              "    <tr>\n",
              "      <th>4</th>\n",
              "      <td>Delvalle</td>\n",
              "      <td>35.697876</td>\n",
              "      <td>3.619091</td>\n",
              "      <td>0.000000</td>\n",
              "      <td>Los Angeles CA</td>\n",
              "    </tr>\n",
              "  </tbody>\n",
              "</table>\n",
              "</div>\n",
              "      <button class=\"colab-df-convert\" onclick=\"convertToInteractive('df-e7c7a394-17cc-48ce-b6da-bcf891bcf692')\"\n",
              "              title=\"Convert this dataframe to an interactive table.\"\n",
              "              style=\"display:none;\">\n",
              "        \n",
              "  <svg xmlns=\"http://www.w3.org/2000/svg\" height=\"24px\"viewBox=\"0 0 24 24\"\n",
              "       width=\"24px\">\n",
              "    <path d=\"M0 0h24v24H0V0z\" fill=\"none\"/>\n",
              "    <path d=\"M18.56 5.44l.94 2.06.94-2.06 2.06-.94-2.06-.94-.94-2.06-.94 2.06-2.06.94zm-11 1L8.5 8.5l.94-2.06 2.06-.94-2.06-.94L8.5 2.5l-.94 2.06-2.06.94zm10 10l.94 2.06.94-2.06 2.06-.94-2.06-.94-.94-2.06-.94 2.06-2.06.94z\"/><path d=\"M17.41 7.96l-1.37-1.37c-.4-.4-.92-.59-1.43-.59-.52 0-1.04.2-1.43.59L10.3 9.45l-7.72 7.72c-.78.78-.78 2.05 0 2.83L4 21.41c.39.39.9.59 1.41.59.51 0 1.02-.2 1.41-.59l7.78-7.78 2.81-2.81c.8-.78.8-2.07 0-2.86zM5.41 20L4 18.59l7.72-7.72 1.47 1.35L5.41 20z\"/>\n",
              "  </svg>\n",
              "      </button>\n",
              "      \n",
              "  <style>\n",
              "    .colab-df-container {\n",
              "      display:flex;\n",
              "      flex-wrap:wrap;\n",
              "      gap: 12px;\n",
              "    }\n",
              "\n",
              "    .colab-df-convert {\n",
              "      background-color: #E8F0FE;\n",
              "      border: none;\n",
              "      border-radius: 50%;\n",
              "      cursor: pointer;\n",
              "      display: none;\n",
              "      fill: #1967D2;\n",
              "      height: 32px;\n",
              "      padding: 0 0 0 0;\n",
              "      width: 32px;\n",
              "    }\n",
              "\n",
              "    .colab-df-convert:hover {\n",
              "      background-color: #E2EBFA;\n",
              "      box-shadow: 0px 1px 2px rgba(60, 64, 67, 0.3), 0px 1px 3px 1px rgba(60, 64, 67, 0.15);\n",
              "      fill: #174EA6;\n",
              "    }\n",
              "\n",
              "    [theme=dark] .colab-df-convert {\n",
              "      background-color: #3B4455;\n",
              "      fill: #D2E3FC;\n",
              "    }\n",
              "\n",
              "    [theme=dark] .colab-df-convert:hover {\n",
              "      background-color: #434B5C;\n",
              "      box-shadow: 0px 1px 3px 1px rgba(0, 0, 0, 0.15);\n",
              "      filter: drop-shadow(0px 1px 2px rgba(0, 0, 0, 0.3));\n",
              "      fill: #FFFFFF;\n",
              "    }\n",
              "  </style>\n",
              "\n",
              "      <script>\n",
              "        const buttonEl =\n",
              "          document.querySelector('#df-e7c7a394-17cc-48ce-b6da-bcf891bcf692 button.colab-df-convert');\n",
              "        buttonEl.style.display =\n",
              "          google.colab.kernel.accessAllowed ? 'block' : 'none';\n",
              "\n",
              "        async function convertToInteractive(key) {\n",
              "          const element = document.querySelector('#df-e7c7a394-17cc-48ce-b6da-bcf891bcf692');\n",
              "          const dataTable =\n",
              "            await google.colab.kernel.invokeFunction('convertToInteractive',\n",
              "                                                     [key], {});\n",
              "          if (!dataTable) return;\n",
              "\n",
              "          const docLinkHtml = 'Like what you see? Visit the ' +\n",
              "            '<a target=\"_blank\" href=https://colab.research.google.com/notebooks/data_table.ipynb>data table notebook</a>'\n",
              "            + ' to learn more about interactive tables.';\n",
              "          element.innerHTML = '';\n",
              "          dataTable['output_type'] = 'display_data';\n",
              "          await google.colab.output.renderOutput(dataTable, element);\n",
              "          const docLink = document.createElement('div');\n",
              "          docLink.innerHTML = docLinkHtml;\n",
              "          element.appendChild(docLink);\n",
              "        }\n",
              "      </script>\n",
              "    </div>\n",
              "  </div>\n",
              "  "
            ]
          },
          "metadata": {},
          "execution_count": 136
        }
      ],
      "source": [
        "# Menampilkan data 5 teratas \n",
        "hr_clean.head()"
      ]
    },
    {
      "cell_type": "markdown",
      "metadata": {
        "id": "6tMXmryhfVUN"
      },
      "source": [
        "### Single Variable Regression / Simple Regression Liniear"
      ]
    },
    {
      "cell_type": "code",
      "execution_count": null,
      "metadata": {
        "colab": {
          "base_uri": "https://localhost:8080/",
          "height": 296
        },
        "id": "g3toISWEfSvN",
        "outputId": "de8491bf-8929-4200-d8f2-9966e0d662d7"
      },
      "outputs": [
        {
          "output_type": "execute_result",
          "data": {
            "text/plain": [
              "<matplotlib.collections.PathCollection at 0x7f050c788310>"
            ]
          },
          "metadata": {},
          "execution_count": 137
        },
        {
          "output_type": "display_data",
          "data": {
            "text/plain": [
              "<Figure size 432x288 with 1 Axes>"
            ],
            "image/png": "[encoded data removed]"
          },
          "metadata": {
            "needs_background": "light"
          }
        }
      ],
      "source": [
        "# Hubungan Variabel Age dengan Absent Hours\n",
        "plt.xlabel('age')\n",
        "plt.ylabel('absent_hours')\n",
        "plt.scatter(hr_clean['age'], hr_clean['absent_hours'], color='blue')"
      ]
    },
    {
      "cell_type": "code",
      "source": [
        "# menentukan x(independen) dan y(dependen) variable\n",
        "\n",
        "X = hr_clean['age'].values.reshape((-1,1))\n",
        "y = hr_clean['absent_hours'].values\n",
        "reg = linear_model.LinearRegression()\n",
        "reg.fit(hr_clean[['age']], hr_clean.absent_hours)"
      ],
      "metadata": {
        "id": "1llKH0TqP7AD",
        "colab": {
          "base_uri": "https://localhost:8080/"
        },
        "outputId": "c41bf881-062e-48be-d45a-a77e4c2d5d5a"
      },
      "execution_count": null,
      "outputs": [
        {
          "output_type": "execute_result",
          "data": {
            "text/plain": [
              "LinearRegression()"
            ]
          },
          "metadata": {},
          "execution_count": 138
        }
      ]
    },
    {
      "cell_type": "code",
      "execution_count": null,
      "metadata": {
        "id": "LwonO6eXkBi2",
        "colab": {
          "base_uri": "https://localhost:8080/"
        },
        "outputId": "766433e2-118b-4544-c6e9-101eecfc5a53"
      },
      "outputs": [
        {
          "output_type": "execute_result",
          "data": {
            "text/plain": [
              "[array([[36.17217088],\n",
              "        [37.58448386],\n",
              "        [48.52231595],\n",
              "        ...,\n",
              "        [51.00873723],\n",
              "        [36.80508076],\n",
              "        [36.56530227]]), array([[39.35916646],\n",
              "        [35.56456214],\n",
              "        [45.94343505],\n",
              "        ...,\n",
              "        [49.76575699],\n",
              "        [37.48417489],\n",
              "        [35.87737706]]), array([56.70451388, 47.43704793, 42.99806786, ..., 81.59554037,\n",
              "        43.02070984, 15.910309  ]), array([23.99443787, 61.14573215, 87.64724179, ..., 86.51479597,\n",
              "        38.2079108 , 72.24784897])]"
            ]
          },
          "metadata": {},
          "execution_count": 139
        }
      ],
      "source": [
        "# spliting data ke training set dan test set\n",
        "train_test_split(X,y,test_size=0.2)"
      ]
    },
    {
      "cell_type": "code",
      "source": [
        "# Data menjadi training dan testing dengan porsi (80:20)\n",
        "X_train, X_test, y_train, y_test = train_test_split(X, y, test_size=0.2,random_state=11)"
      ],
      "metadata": {
        "id": "GT5AmhIZMDB3"
      },
      "execution_count": null,
      "outputs": []
    },
    {
      "cell_type": "code",
      "source": [
        "# Cek shape data training dan testing\n",
        "print(X_train.shape)\n",
        "print(y_train.shape)\n",
        "print(X_test.shape)\n",
        "print(y_test.shape)"
      ],
      "metadata": {
        "colab": {
          "base_uri": "https://localhost:8080/"
        },
        "id": "gTCEg13t7X-m",
        "outputId": "966fb6a6-0476-41da-f3b4-a4467b4f8e66"
      },
      "execution_count": null,
      "outputs": [
        {
          "output_type": "stream",
          "name": "stdout",
          "text": [
            "(6461, 1)\n",
            "(6461,)\n",
            "(1616, 1)\n",
            "(1616,)\n"
          ]
        }
      ]
    },
    {
      "cell_type": "code",
      "execution_count": null,
      "metadata": {
        "colab": {
          "base_uri": "https://localhost:8080/"
        },
        "id": "Kw0waycpkJWU",
        "outputId": "006791f8-b228-4b84-d507-678de1fdbfad"
      },
      "outputs": [
        {
          "output_type": "execute_result",
          "data": {
            "text/plain": [
              "array([ 56.7851043 , 121.73824457,  54.16069504, ..., 105.39766444,\n",
              "        43.52307463,  54.31419768])"
            ]
          },
          "metadata": {},
          "execution_count": 142
        }
      ],
      "source": [
        "# Training Data dan menjalankan model.\n",
        "reg.fit(X_train,y_train)\n",
        "reg.predict(X_test)"
      ]
    },
    {
      "cell_type": "code",
      "execution_count": null,
      "metadata": {
        "colab": {
          "base_uri": "https://localhost:8080/"
        },
        "id": "b8wrRJr8kNW5",
        "outputId": "8e0feb5e-149b-4b59-c7db-cd8c3be54bc6"
      },
      "outputs": [
        {
          "output_type": "stream",
          "name": "stdout",
          "text": [
            "[4.17694615]\n",
            "-114.02497839094292\n"
          ]
        }
      ],
      "source": [
        "# cari tau nilai koefisien dan intercept\n",
        "reg.coef_\n",
        "reg.intercept_\n",
        "print(reg.coef_)\n",
        "print(reg.intercept_)"
      ]
    },
    {
      "cell_type": "code",
      "execution_count": null,
      "metadata": {
        "id": "KiIugOesmlF4"
      },
      "outputs": [],
      "source": [
        "# prediksi hasil\n",
        "y_pred = reg.predict(X_test)"
      ]
    },
    {
      "cell_type": "code",
      "execution_count": null,
      "metadata": {
        "colab": {
          "base_uri": "https://localhost:8080/"
        },
        "id": "KKbhaxFTkbbZ",
        "outputId": "4f2bc57b-2ffa-4ca9-94ff-63bf86ff9eec"
      },
      "outputs": [
        {
          "output_type": "execute_result",
          "data": {
            "text/plain": [
              "0.7134767935707966"
            ]
          },
          "metadata": {},
          "execution_count": 145
        }
      ],
      "source": [
        "# cari tau akurasi skor\n",
        "r2_score(y_test, y_pred)"
      ]
    },
    {
      "cell_type": "code",
      "execution_count": null,
      "metadata": {
        "colab": {
          "base_uri": "https://localhost:8080/"
        },
        "id": "uJEa-EAWmfnw",
        "outputId": "667b0495-7ca7-4306-9e28-b752d129649c"
      },
      "outputs": [
        {
          "output_type": "execute_result",
          "data": {
            "text/plain": [
              "array([53.05286771])"
            ]
          },
          "metadata": {},
          "execution_count": 146
        }
      ],
      "source": [
        "# tes prediksi salah satu data, masukan umur 40\n",
        "reg.predict([[40]])"
      ]
    },
    {
      "cell_type": "code",
      "source": [
        "#visualisasikan variabel age dengan absent hours use y_pred\n",
        "plt.scatter(X_test, y_test, color ='gray')\n",
        "plt.plot(X_test, y_pred, 'r', color ='red')\n",
        "plt.xlabel('Age')\n",
        "plt.ylabel('Absent hours')\n",
        "plt.show()"
      ],
      "metadata": {
        "colab": {
          "base_uri": "https://localhost:8080/",
          "height": 279
        },
        "id": "znB84G1DeSiS",
        "outputId": "16c1a36b-e233-43bc-f9e9-e976ed12f5b4"
      },
      "execution_count": null,
      "outputs": [
        {
          "output_type": "display_data",
          "data": {
            "text/plain": [
              "<Figure size 432x288 with 1 Axes>"
            ],
            "image/png": "[encoded data removed]"
          },
          "metadata": {
            "needs_background": "light"
          }
        }
      ]
    },
    {
      "cell_type": "code",
      "execution_count": null,
      "metadata": {
        "colab": {
          "base_uri": "https://localhost:8080/",
          "height": 677
        },
        "id": "DSFDfTNHmwIn",
        "outputId": "3551df81-e892-437d-a86f-ada7590c49c5"
      },
      "outputs": [
        {
          "output_type": "execute_result",
          "data": {
            "text/plain": [
              "    Actual Value  Predicted_Value  Difference\n",
              "0      44.711989        56.785104  -12.073116\n",
              "1     124.246879       121.738245    2.508634\n",
              "2      85.604662        54.160695   31.443967\n",
              "3      20.356749         4.721250   15.635499\n",
              "4       0.000000         0.587623   -0.587623\n",
              "5       0.000000       -12.235038   12.235038\n",
              "6      58.008243        32.839172   25.169071\n",
              "7      59.016582        51.736443    7.280139\n",
              "8      82.647573        73.090532    9.557041\n",
              "9     100.465819        72.112771   28.353048\n",
              "10     72.990094       101.911058  -28.920965\n",
              "11      0.000000        17.577579  -17.577579\n",
              "12     88.278983        71.720305   16.558677\n",
              "13     67.489469        52.173476   15.315993\n",
              "14     43.347246        69.092164  -25.744918\n",
              "15     38.438004         7.483850   30.954154\n",
              "16     42.066086        39.552821    2.513265\n",
              "17     73.943200       111.416500  -37.473300\n",
              "18     91.393237        92.867746   -1.474509\n",
              "19     72.161525        73.008087   -0.846562"
            ],
            "text/html": [
              "\n",
              "  <div id=\"df-ab963ce6-1cc4-4582-84c6-0154f1ac2f31\">\n",
              "    <div class=\"colab-df-container\">\n",
              "      <div>\n",
              "<style scoped>\n",
              "    .dataframe tbody tr th:only-of-type {\n",
              "        vertical-align: middle;\n",
              "    }\n",
              "\n",
              "    .dataframe tbody tr th {\n",
              "        vertical-align: top;\n",
              "    }\n",
              "\n",
              "    .dataframe thead th {\n",
              "        text-align: right;\n",
              "    }\n",
              "</style>\n",
              "<table border=\"1\" class=\"dataframe\">\n",
              "  <thead>\n",
              "    <tr style=\"text-align: right;\">\n",
              "      <th></th>\n",
              "      <th>Actual Value</th>\n",
              "      <th>Predicted_Value</th>\n",
              "      <th>Difference</th>\n",
              "    </tr>\n",
              "  </thead>\n",
              "  <tbody>\n",
              "    <tr>\n",
              "      <th>0</th>\n",
              "      <td>44.711989</td>\n",
              "      <td>56.785104</td>\n",
              "      <td>-12.073116</td>\n",
              "    </tr>\n",
              "    <tr>\n",
              "      <th>1</th>\n",
              "      <td>124.246879</td>\n",
              "      <td>121.738245</td>\n",
              "      <td>2.508634</td>\n",
              "    </tr>\n",
              "    <tr>\n",
              "      <th>2</th>\n",
              "      <td>85.604662</td>\n",
              "      <td>54.160695</td>\n",
              "      <td>31.443967</td>\n",
              "    </tr>\n",
              "    <tr>\n",
              "      <th>3</th>\n",
              "      <td>20.356749</td>\n",
              "      <td>4.721250</td>\n",
              "      <td>15.635499</td>\n",
              "    </tr>\n",
              "    <tr>\n",
              "      <th>4</th>\n",
              "      <td>0.000000</td>\n",
              "      <td>0.587623</td>\n",
              "      <td>-0.587623</td>\n",
              "    </tr>\n",
              "    <tr>\n",
              "      <th>5</th>\n",
              "      <td>0.000000</td>\n",
              "      <td>-12.235038</td>\n",
              "      <td>12.235038</td>\n",
              "    </tr>\n",
              "    <tr>\n",
              "      <th>6</th>\n",
              "      <td>58.008243</td>\n",
              "      <td>32.839172</td>\n",
              "      <td>25.169071</td>\n",
              "    </tr>\n",
              "    <tr>\n",
              "      <th>7</th>\n",
              "      <td>59.016582</td>\n",
              "      <td>51.736443</td>\n",
              "      <td>7.280139</td>\n",
              "    </tr>\n",
              "    <tr>\n",
              "      <th>8</th>\n",
              "      <td>82.647573</td>\n",
              "      <td>73.090532</td>\n",
              "      <td>9.557041</td>\n",
              "    </tr>\n",
              "    <tr>\n",
              "      <th>9</th>\n",
              "      <td>100.465819</td>\n",
              "      <td>72.112771</td>\n",
              "      <td>28.353048</td>\n",
              "    </tr>\n",
              "    <tr>\n",
              "      <th>10</th>\n",
              "      <td>72.990094</td>\n",
              "      <td>101.911058</td>\n",
              "      <td>-28.920965</td>\n",
              "    </tr>\n",
              "    <tr>\n",
              "      <th>11</th>\n",
              "      <td>0.000000</td>\n",
              "      <td>17.577579</td>\n",
              "      <td>-17.577579</td>\n",
              "    </tr>\n",
              "    <tr>\n",
              "      <th>12</th>\n",
              "      <td>88.278983</td>\n",
              "      <td>71.720305</td>\n",
              "      <td>16.558677</td>\n",
              "    </tr>\n",
              "    <tr>\n",
              "      <th>13</th>\n",
              "      <td>67.489469</td>\n",
              "      <td>52.173476</td>\n",
              "      <td>15.315993</td>\n",
              "    </tr>\n",
              "    <tr>\n",
              "      <th>14</th>\n",
              "      <td>43.347246</td>\n",
              "      <td>69.092164</td>\n",
              "      <td>-25.744918</td>\n",
              "    </tr>\n",
              "    <tr>\n",
              "      <th>15</th>\n",
              "      <td>38.438004</td>\n",
              "      <td>7.483850</td>\n",
              "      <td>30.954154</td>\n",
              "    </tr>\n",
              "    <tr>\n",
              "      <th>16</th>\n",
              "      <td>42.066086</td>\n",
              "      <td>39.552821</td>\n",
              "      <td>2.513265</td>\n",
              "    </tr>\n",
              "    <tr>\n",
              "      <th>17</th>\n",
              "      <td>73.943200</td>\n",
              "      <td>111.416500</td>\n",
              "      <td>-37.473300</td>\n",
              "    </tr>\n",
              "    <tr>\n",
              "      <th>18</th>\n",
              "      <td>91.393237</td>\n",
              "      <td>92.867746</td>\n",
              "      <td>-1.474509</td>\n",
              "    </tr>\n",
              "    <tr>\n",
              "      <th>19</th>\n",
              "      <td>72.161525</td>\n",
              "      <td>73.008087</td>\n",
              "      <td>-0.846562</td>\n",
              "    </tr>\n",
              "  </tbody>\n",
              "</table>\n",
              "</div>\n",
              "      <button class=\"colab-df-convert\" onclick=\"convertToInteractive('df-ab963ce6-1cc4-4582-84c6-0154f1ac2f31')\"\n",
              "              title=\"Convert this dataframe to an interactive table.\"\n",
              "              style=\"display:none;\">\n",
              "        \n",
              "  <svg xmlns=\"http://www.w3.org/2000/svg\" height=\"24px\"viewBox=\"0 0 24 24\"\n",
              "       width=\"24px\">\n",
              "    <path d=\"M0 0h24v24H0V0z\" fill=\"none\"/>\n",
              "    <path d=\"M18.56 5.44l.94 2.06.94-2.06 2.06-.94-2.06-.94-.94-2.06-.94 2.06-2.06.94zm-11 1L8.5 8.5l.94-2.06 2.06-.94-2.06-.94L8.5 2.5l-.94 2.06-2.06.94zm10 10l.94 2.06.94-2.06 2.06-.94-2.06-.94-.94-2.06-.94 2.06-2.06.94z\"/><path d=\"M17.41 7.96l-1.37-1.37c-.4-.4-.92-.59-1.43-.59-.52 0-1.04.2-1.43.59L10.3 9.45l-7.72 7.72c-.78.78-.78 2.05 0 2.83L4 21.41c.39.39.9.59 1.41.59.51 0 1.02-.2 1.41-.59l7.78-7.78 2.81-2.81c.8-.78.8-2.07 0-2.86zM5.41 20L4 18.59l7.72-7.72 1.47 1.35L5.41 20z\"/>\n",
              "  </svg>\n",
              "      </button>\n",
              "      \n",
              "  <style>\n",
              "    .colab-df-container {\n",
              "      display:flex;\n",
              "      flex-wrap:wrap;\n",
              "      gap: 12px;\n",
              "    }\n",
              "\n",
              "    .colab-df-convert {\n",
              "      background-color: #E8F0FE;\n",
              "      border: none;\n",
              "      border-radius: 50%;\n",
              "      cursor: pointer;\n",
              "      display: none;\n",
              "      fill: #1967D2;\n",
              "      height: 32px;\n",
              "      padding: 0 0 0 0;\n",
              "      width: 32px;\n",
              "    }\n",
              "\n",
              "    .colab-df-convert:hover {\n",
              "      background-color: #E2EBFA;\n",
              "      box-shadow: 0px 1px 2px rgba(60, 64, 67, 0.3), 0px 1px 3px 1px rgba(60, 64, 67, 0.15);\n",
              "      fill: #174EA6;\n",
              "    }\n",
              "\n",
              "    [theme=dark] .colab-df-convert {\n",
              "      background-color: #3B4455;\n",
              "      fill: #D2E3FC;\n",
              "    }\n",
              "\n",
              "    [theme=dark] .colab-df-convert:hover {\n",
              "      background-color: #434B5C;\n",
              "      box-shadow: 0px 1px 3px 1px rgba(0, 0, 0, 0.15);\n",
              "      filter: drop-shadow(0px 1px 2px rgba(0, 0, 0, 0.3));\n",
              "      fill: #FFFFFF;\n",
              "    }\n",
              "  </style>\n",
              "\n",
              "      <script>\n",
              "        const buttonEl =\n",
              "          document.querySelector('#df-ab963ce6-1cc4-4582-84c6-0154f1ac2f31 button.colab-df-convert');\n",
              "        buttonEl.style.display =\n",
              "          google.colab.kernel.accessAllowed ? 'block' : 'none';\n",
              "\n",
              "        async function convertToInteractive(key) {\n",
              "          const element = document.querySelector('#df-ab963ce6-1cc4-4582-84c6-0154f1ac2f31');\n",
              "          const dataTable =\n",
              "            await google.colab.kernel.invokeFunction('convertToInteractive',\n",
              "                                                     [key], {});\n",
              "          if (!dataTable) return;\n",
              "\n",
              "          const docLinkHtml = 'Like what you see? Visit the ' +\n",
              "            '<a target=\"_blank\" href=https://colab.research.google.com/notebooks/data_table.ipynb>data table notebook</a>'\n",
              "            + ' to learn more about interactive tables.';\n",
              "          element.innerHTML = '';\n",
              "          dataTable['output_type'] = 'display_data';\n",
              "          await google.colab.output.renderOutput(dataTable, element);\n",
              "          const docLink = document.createElement('div');\n",
              "          docLink.innerHTML = docLinkHtml;\n",
              "          element.appendChild(docLink);\n",
              "        }\n",
              "      </script>\n",
              "    </div>\n",
              "  </div>\n",
              "  "
            ]
          },
          "metadata": {},
          "execution_count": 148
        }
      ],
      "source": [
        "# Perbedaan nilai actual dan prediksi \n",
        "pred_y_hr = pd.DataFrame({'Actual Value':y_test, 'Predicted_Value':y_pred, 'Difference': y_test-y_pred})\n",
        "pred_y_hr[0:20]"
      ]
    },
    {
      "cell_type": "code",
      "execution_count": null,
      "metadata": {
        "colab": {
          "base_uri": "https://localhost:8080/",
          "height": 279
        },
        "id": "bc4QtA2vm3DA",
        "outputId": "49a3b4a6-c2ae-482c-a205-9691c0540dc0"
      },
      "outputs": [
        {
          "output_type": "display_data",
          "data": {
            "text/plain": [
              "<Figure size 432x288 with 1 Axes>"
            ],
            "image/png": "[encoded data removed]"
          },
          "metadata": {
            "needs_background": "light"
          }
        }
      ],
      "source": [
        "# visualisasikan perbandingan nilai actual dan predicted\n",
        "plt.figure()\n",
        "plt.scatter(y_test,y_pred)\n",
        "fig.suptitle('Actual vs Predicted')\n",
        "plt.xlabel('Actual')\n",
        "plt.ylabel('Predicted')\n",
        "plt.show()"
      ]
    },
    {
      "cell_type": "markdown",
      "metadata": {
        "id": "DsOOrqEM1Qs4"
      },
      "source": [
        "### Metrics"
      ]
    },
    {
      "cell_type": "code",
      "execution_count": null,
      "metadata": {
        "colab": {
          "base_uri": "https://localhost:8080/"
        },
        "id": "v1wtnOZhnEC7",
        "outputId": "bd8ac9d9-9287-4aa9-ee4d-d77c60c69fec"
      },
      "outputs": [
        {
          "output_type": "stream",
          "name": "stdout",
          "text": [
            "Mean Absolute Error: 19.74489939575669\n",
            "Mean Squared Error: 633.4280294819248\n",
            "Root Mean Squared Error: 25.16799613560692\n",
            "R2 score: 0.7134767935707966\n"
          ]
        }
      ],
      "source": [
        "from sklearn import metrics\n",
        "print('Mean Absolute Error:', metrics.mean_absolute_error(y_test, y_pred))\n",
        "print('Mean Squared Error:', metrics.mean_squared_error(y_test, y_pred))\n",
        "print('Root Mean Squared Error:', np.sqrt(metrics.mean_squared_error(y_test,y_pred)))\n",
        "print('R2 score:', r2_score(y_test,y_pred))"
      ]
    },
    {
      "cell_type": "markdown",
      "source": [
        "### KESIMPULAN\n",
        "R-Squared = 0.713 Adj R-Squared = 0.713 ~ 71% varians dapat dijelaskan"
      ],
      "metadata": {
        "id": "dIIfRHcp14At"
      }
    }
  ],
  "metadata": {
    "colab": {
      "name": "Dept. HR_Rizki Fadhilah Syahni",
      "provenance": [],
      "collapsed_sections": [],
      "mount_file_id": "1sZEp0FRqZhatSwNCjUr6clugJEnXQ6za",
      "authorship_tag": "ABX9TyNZ9mZfx26QqGjxy7PbsRAr",
      "include_colab_link": true
    },
    "kernelspec": {
      "display_name": "Python 3",
      "name": "python3"
    },
    "language_info": {
      "name": "python"
    }
  },
  "nbformat": 4,
  "nbformat_minor": 0
}